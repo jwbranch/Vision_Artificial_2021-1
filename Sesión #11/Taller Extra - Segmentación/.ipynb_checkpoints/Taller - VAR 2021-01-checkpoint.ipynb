{
 "cells": [
  {
   "cell_type": "markdown",
   "metadata": {},
   "source": [
    "# Taller Extra - VAR 2021-01"
   ]
  },
  {
   "cell_type": "code",
   "execution_count": null,
   "metadata": {},
   "outputs": [],
   "source": [
    "# Librerías necesarias\n",
    "\n",
    "import cv2\n",
    "import matplotlib.pyplot as plt\n",
    "import numpy as np\n",
    "import math\n",
    "import skimage\n",
    "import skimage.io\n",
    "import skimage.morphology as morph\n",
    "\n",
    "### UTILIDADES PARA LA LECTURA DE IMÁGENES\n",
    "#Función de lectura rápida de imágenes a color y en escala de grises\n",
    "def img_read(filename, mode = 'color'):\n",
    "    if(mode == 'color'):   \n",
    "        return cv2.cvtColor(cv2.imread(filename),cv2.COLOR_BGR2RGB)\n",
    "    elif(mode=='grayscale' or mode=='greyscale' or mode == 'gray' or mode == 'grey'):\n",
    "        return cv2.imread(filename, cv2.IMREAD_GRAYSCALE)\n",
    "    else:\n",
    "        return None\n",
    "\n",
    "    #Función para interpolar los puntos entre 0 y 255\n",
    "def img_scale(img, value_range = [0,255]):\n",
    "    return (value_range[1] - value_range[0])*(img - np.min(img))/(np.max(img)-np.min(img)) + value_range[0]\n",
    "    \n",
    "    #Función para enviar los extremos superior e inferior a 0 y 255 respectivamente en la matriz\n",
    "def img_trim(img, value_range = [0, 255]):\n",
    "    res = img.copy()\n",
    "    res[res > 255] = 255\n",
    "    res[res < 0] = 0\n",
    "    return res\n"
   ]
  },
  {
   "cell_type": "markdown",
   "metadata": {},
   "source": [
    "## Actividad 1 - Umbralización \n"
   ]
  },
  {
   "cell_type": "markdown",
   "metadata": {},
   "source": [
    "Observe a continuación la siguiente imagen y su respectivo canal de color en diferentes espacios de colores."
   ]
  },
  {
   "cell_type": "code",
   "execution_count": null,
   "metadata": {},
   "outputs": [],
   "source": [
    "#Leer y plotear la imagen de trabajo\n",
    "img = cv2.imread(\"res/colores.jpg\", cv2.IMREAD_COLOR)\n",
    "img_rgb  = cv2.cvtColor(img, cv2.COLOR_BGR2RGB)\n",
    "plt.imshow(img_rgb)"
   ]
  },
  {
   "cell_type": "code",
   "execution_count": null,
   "metadata": {
    "scrolled": true
   },
   "outputs": [],
   "source": [
    "#Separación de canales de color\n",
    "img_R = img_rgb[:,:,0] #Canal R\n",
    "img_G = img_rgb[:,:,1] #Canal G\n",
    "img_B = img_rgb[:,:,2] #Canal B\n",
    "\n",
    "img_lab  = cv2.cvtColor(img, cv2.COLOR_BGR2LAB)\n",
    "img_L = img_lab[:,:,0] #Canal L\n",
    "img_A =  img_lab[:,:,1] #Canal A\n",
    "img_BB = img_lab[:,:,2] #Canal B\n",
    "fig, arreglo_plots = plt.subplots(6,2, figsize=(15, 25))\n",
    "colors = ('r','g','b')\n",
    "\n",
    "#Canal RGB\n",
    "arreglo_plots[0,0].set_title('Canal R')\n",
    "arreglo_plots[0,0].imshow(img_R, cmap=\"gray\")\n",
    "arreglo_plots[0,1].set_title('Histograma Canal R')\n",
    "img_array_i = img_rgb[:,:,0].ravel()\n",
    "arreglo_plots[0,1].hist(img_array_i,histtype='step', bins=255, \n",
    "                            range=(0.0, 255.0),density=True, color=colors[0])\n",
    "\n",
    "arreglo_plots[1,0].set_title('Canal G')\n",
    "arreglo_plots[1,0].imshow(img_G, cmap=\"gray\")\n",
    "arreglo_plots[1,1].set_title('Histograma Canal G')\n",
    "img_array_i = img_rgb[:,:,1].ravel()\n",
    "arreglo_plots[1,1].hist(img_array_i,histtype='step', bins=255, \n",
    "                            range=(0.0, 255.0),density=True, color=colors[1])\n",
    "    \n",
    "arreglo_plots[2,0].set_title('Canal B')\n",
    "arreglo_plots[2,0].imshow(img_B, cmap=\"gray\")\n",
    "arreglo_plots[2,1].set_title('Histograma Canal B')\n",
    "img_array_i = img_rgb[:,:,2].ravel()\n",
    "arreglo_plots[2,1].hist(img_array_i,histtype='step', bins=255, \n",
    "                            range=(0.0, 255.0),density=True, color=colors[2])\n",
    "\n",
    "#Canal LAB\n",
    "arreglo_plots[3,0].set_title('Canal L')\n",
    "arreglo_plots[3,0].imshow(img_L, cmap=\"gray\")\n",
    "arreglo_plots[3,1].set_title('Histograma Canal L')\n",
    "img_array_i = img_lab[:,:,0].ravel()\n",
    "arreglo_plots[3,1].hist(img_array_i,histtype='step', bins=255, \n",
    "                            range=(0.0, 255.0),density=True, color=colors[0])\n",
    "\n",
    "arreglo_plots[4,0].set_title('Canal A')\n",
    "arreglo_plots[4,0].imshow(img_A, cmap=\"gray\")\n",
    "arreglo_plots[4,1].set_title('Histograma Canal A')\n",
    "img_array_i = img_lab[:,:,1].ravel()\n",
    "arreglo_plots[4,1].hist(img_array_i,histtype='step', bins=255, \n",
    "                            range=(0.0, 255.0),density=True, color=colors[1])\n",
    "    \n",
    "arreglo_plots[5,0].set_title('Canal B')\n",
    "arreglo_plots[5,0].imshow(img_BB, cmap=\"gray\")\n",
    "arreglo_plots[5,1].set_title('Histograma Canal B*')\n",
    "img_array_i = img_lab[:,:,2].ravel()\n",
    "arreglo_plots[5,1].hist(img_array_i,histtype='step', bins=255, \n",
    "                            range=(0.0, 255.0),density=True, color=colors[2]);"
   ]
  },
  {
   "cell_type": "markdown",
   "metadata": {},
   "source": [
    "Siempre antes de ir a la segmentación, se debe saber que canal de color es el adecuado para poder separar lo que buscamos. <b>En este caso buscaremos separar los circulos amarillos de los demás (aproximación)</b>."
   ]
  },
  {
   "cell_type": "code",
   "execution_count": null,
   "metadata": {},
   "outputs": [],
   "source": [
    "#Asignar el canal que se va a utilizar ≈ 1 linea\n",
    "canal = None\n",
    "#Asignar los valores aproximados del umbral\n",
    "\n",
    "####SU CODIGO AQUÍ##### #Solo asignar valores\n",
    "val_min = None #    150 <= val_min >= 220\n",
    "val_max = None #    220 <= val_max >= 255\n",
    "#####TERMINA SU CODIGO#####\n",
    "\n",
    "#Thresh_Binary\n",
    "ret, thresh1 = cv2.threshold(canal,val_min,val_max,cv2.THRESH_BINARY)\n",
    "\n",
    "#Mostrar imagen\n",
    "fig2, ax = plt.subplots(1,2, figsize=(10, 7))\n",
    "ax[0].set_title('imagen original')\n",
    "ax[0].imshow(canal, cmap='gray')\n",
    "ax[1].set_title('Umbralización')\n",
    "ax[1].imshow(thresh1, cmap='gray')"
   ]
  },
  {
   "cell_type": "markdown",
   "metadata": {},
   "source": [
    "## Salida esperada:\n",
    "\n",
    "<img src = \"res/answer_2.png\">"
   ]
  },
  {
   "cell_type": "markdown",
   "metadata": {},
   "source": [
    "# Actividad 2 - Filtros"
   ]
  },
  {
   "cell_type": "markdown",
   "metadata": {},
   "source": [
    "Ahora que sabemos cómo implementar operadores basados en la primera derivada, veamos cómo funcionan los operadores de Segunda Derivada.\n",
    "\n",
    "Dada la ausencia de dos gradientes, estos operadores se implementan mediante una única convolución.\n",
    "\n",
    "## El filtro de la Laplaciana\n",
    "\n",
    "<h2>$\\nabla^2f(x,y)=\\frac{\\partial^2f}{\\partial_x^2}+\\frac{\\partial^2f}{\\partial_y^2}$</h2>\n",
    "\n",
    "Utilizando las siguientes máscaras de convolución, implementemos el Filtro de la Laplaciana. Las llamaremos máscara 1 y máscara 2 respectivamente.\n",
    "\n",
    "<h2>$\\nabla^2f=f*\\begin{bmatrix}\n",
    " 1 & -2 & 1\\\\ \n",
    " -2 & 4 & -2\\\\ \n",
    " 1 & -2 & 1\n",
    "\\end{bmatrix}$</h2>\n",
    "\n",
    "<h2>$\\nabla^2f=f*\\begin{bmatrix}\n",
    " -1 & -1 & -1\\\\ \n",
    " -1 & 8 & -1\\\\ \n",
    " -1 & -1 & -1\n",
    "\\end{bmatrix}$</h2>\n",
    "\n",
    "Lea la imagen \"res/botones.jpg\" en escala de grises."
   ]
  },
  {
   "cell_type": "code",
   "execution_count": null,
   "metadata": {},
   "outputs": [],
   "source": [
    "#Leer imagen de entrada en escala de grises  ≈ 1 linea\n",
    "\n",
    "####SU CODIGO AQUÍ#####\n",
    "img = img_read('res/botones.jpg', \"gray\")\n",
    "#####TERMINA SU CODIGO#####\n",
    "\n",
    "#Crear las máscaras de convolución  ≈ 2 lineas\n",
    "\n",
    "####SU CODIGO AQUÍ#####\n",
    "mask1 = None #máscara 1\n",
    "mask2 = None #máscara 2\n",
    "#####TERMINA SU CODIGO#####\n",
    "\n",
    "print(\"La máscara de convolución 1 en X es: \\n\", mask1)\n",
    "print(\"La máscara de convolucion 2 es: \\n\", mask2)"
   ]
  },
  {
   "cell_type": "markdown",
   "metadata": {},
   "source": [
    "## Salida esperada:\n",
    "\n",
    "<img src = \"res/mascaralaplaciana.png\">"
   ]
  },
  {
   "cell_type": "markdown",
   "metadata": {},
   "source": [
    "Ahora, realizaremos las dos convoluciones respectivas y observaremos los resultados."
   ]
  },
  {
   "cell_type": "code",
   "execution_count": null,
   "metadata": {},
   "outputs": [],
   "source": [
    "#Realizar la convolución ≈ 2 lineas\n",
    "\n",
    "\n",
    "####SU CODIGO AQUÍ#####\n",
    "laplace_filtered1 = None #Convolución máscara 1\n",
    "laplace_filtered2 = None #Convolución máscara 2\n",
    "#####TERMINA SU CODIGO#####\n",
    "\n",
    "#Generar subplot 1x3 para mostrar imagen original y convolución Laplaciana\n",
    "fig, ax = plt.subplots(1,3, figsize=(15, 8))\n",
    "ax[0].set_title('Imagen Original')\n",
    "ax[0].imshow(img, cmap='gray')\n",
    "ax[1].set_title('Convolucion Laplaciana 1')\n",
    "ax[1].imshow(laplace_filtered1, cmap='gray')\n",
    "ax[2].set_title('Convolucion Laplaciana 2')\n",
    "ax[2].imshow(laplace_filtered2, cmap='gray')"
   ]
  },
  {
   "cell_type": "markdown",
   "metadata": {},
   "source": [
    "## Salida esperada:\n",
    "\n",
    "<img src = \"res/convolucionlaplaciana.png\">"
   ]
  },
  {
   "cell_type": "markdown",
   "metadata": {},
   "source": [
    "# Actividad 3 - Intentemos"
   ]
  },
  {
   "cell_type": "markdown",
   "metadata": {},
   "source": [
    "Seguir los mismos pasos de la solución de la actividad 1, puede utilizar otras técnicas de umbralización. El problema en esta actividad sera segmentar una banana, la imagen se encuentra en la siguiente dirección: \"res/banana.jpg\""
   ]
  },
  {
   "cell_type": "code",
   "execution_count": null,
   "metadata": {},
   "outputs": [],
   "source": [
    "####SU CODIGO AQUÍ#####"
   ]
  }
 ],
 "metadata": {
  "kernelspec": {
   "display_name": "Python 3",
   "language": "python",
   "name": "python3"
  },
  "language_info": {
   "codemirror_mode": {
    "name": "ipython",
    "version": 3
   },
   "file_extension": ".py",
   "mimetype": "text/x-python",
   "name": "python",
   "nbconvert_exporter": "python",
   "pygments_lexer": "ipython3",
   "version": "3.8.5"
  }
 },
 "nbformat": 4,
 "nbformat_minor": 2
}
