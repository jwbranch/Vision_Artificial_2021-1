{
 "cells": [
  {
   "cell_type": "markdown",
   "id": "sticky-criterion",
   "metadata": {},
   "source": [
    "# Taller Morfología"
   ]
  },
  {
   "cell_type": "code",
   "execution_count": null,
   "id": "aging-gauge",
   "metadata": {},
   "outputs": [],
   "source": [
    "#Importar librerías\n",
    "%matplotlib inline\n",
    "\n",
    "import cv2\n",
    "import matplotlib.pyplot as plt\n",
    "import numpy as np\n",
    "import warnings\n",
    "\n",
    "import skimage\n",
    "import skimage.io\n",
    "import skimage.morphology as morph\n",
    "\n",
    "warnings.filterwarnings('ignore')\n"
   ]
  },
  {
   "cell_type": "markdown",
   "id": "departmental-adoption",
   "metadata": {},
   "source": [
    "# Actividad 1 "
   ]
  },
  {
   "cell_type": "markdown",
   "id": "narrow-mistress",
   "metadata": {},
   "source": [
    "Lea la mascara \"res/mask.png\" en escala de grises, y mediante las operaciones morfológicas obtenga el siguiente resultado (aproximado):\n",
    "<br>\n",
    "<img src=\"res/ans1.png\">"
   ]
  },
  {
   "cell_type": "code",
   "execution_count": null,
   "id": "obvious-terrain",
   "metadata": {},
   "outputs": [],
   "source": [
    "### Aquí su código!!\n",
    "img = skimage.io.imread(\"res/mask.png\", as_gray=True)\n",
    "\n",
    "plt.imshow(img, cmap = \"gray\")"
   ]
  },
  {
   "cell_type": "markdown",
   "id": "recreational-niagara",
   "metadata": {},
   "source": [
    "# Actividad 2"
   ]
  },
  {
   "cell_type": "markdown",
   "id": "recognized-preview",
   "metadata": {},
   "source": [
    "Lea la mascara \"res/mask.png\" en escala de grises, y mediante las operaciones morfológicas obtenga el siguiente resultado (aproximado):\n",
    "<br>\n",
    "<img src=\"res/ans2.png\">"
   ]
  },
  {
   "cell_type": "code",
   "execution_count": null,
   "id": "otherwise-integration",
   "metadata": {},
   "outputs": [],
   "source": [
    "### Aquí su código!!\n",
    "img = skimage.io.imread(\"res/mask.png\", as_gray=True)\n",
    "\n",
    "plt.imshow(img, cmap = \"gray\")"
   ]
  },
  {
   "cell_type": "markdown",
   "id": "wired-philosophy",
   "metadata": {},
   "source": [
    "# Actividad 3"
   ]
  },
  {
   "cell_type": "markdown",
   "id": "absolute-eight",
   "metadata": {},
   "source": [
    "Lea la mascara \"res/mask.png\" en escala de grises, y mediante las operaciones morfológicas obtenga el siguiente resultado (aproximado):\n",
    "<br>\n",
    "<img src=\"res/ans3.png\">"
   ]
  },
  {
   "cell_type": "code",
   "execution_count": null,
   "id": "adverse-window",
   "metadata": {},
   "outputs": [],
   "source": [
    "### Aquí su código!!\n",
    "img = skimage.io.imread(\"res/mask.png\", as_gray=True)\n",
    "\n",
    "plt.imshow(img, cmap = \"gray\")"
   ]
  },
  {
   "cell_type": "markdown",
   "id": "fitted-declaration",
   "metadata": {},
   "source": [
    "# Actividad 4"
   ]
  },
  {
   "cell_type": "markdown",
   "id": "specified-sessions",
   "metadata": {},
   "source": [
    "Lea la mascara \"res/mask.png\" en escala de grises, y mediante las operaciones morfológicas obtenga el siguiente resultado (aproximado):\n",
    "<br>\n",
    "<img src=\"res/ans4.png\">"
   ]
  },
  {
   "cell_type": "code",
   "execution_count": null,
   "id": "dependent-reading",
   "metadata": {},
   "outputs": [],
   "source": [
    "### Aquí su código!!\n",
    "img = skimage.io.imread(\"res/mask.png\", as_gray=True)\n",
    "\n",
    "plt.imshow(img, cmap = \"gray\")"
   ]
  },
  {
   "cell_type": "markdown",
   "id": "supreme-green",
   "metadata": {},
   "source": [
    "# Actividad 5"
   ]
  },
  {
   "cell_type": "markdown",
   "id": "scenic-monaco",
   "metadata": {},
   "source": [
    "Lea la mascara \"res/mask2.png\" en escala de grises, y mediante las operaciones morfológicas obtenga el siguiente resultado (aproximado):\n",
    "<br>\n",
    "<img src=\"res/ans5.png\">"
   ]
  },
  {
   "cell_type": "markdown",
   "id": "driven-thong",
   "metadata": {},
   "source": [
    "Luego implemente la operación lógica AND con la mascara resultante en la imagen 'res/1000.jpg' y observe los resultados."
   ]
  },
  {
   "cell_type": "code",
   "execution_count": null,
   "id": "written-carnival",
   "metadata": {},
   "outputs": [],
   "source": [
    "img = cv2.cvtColor(cv2.imread('res/1000.jpg'), cv2.COLOR_BGR2RGB)\n",
    "\n",
    "plt.imshow(img, cmap=\"gray\")"
   ]
  },
  {
   "cell_type": "code",
   "execution_count": null,
   "id": "union-myrtle",
   "metadata": {},
   "outputs": [],
   "source": [
    "### Aquí su código!!\n",
    "img = skimage.io.imread(\"res/mask2.jpg\", as_gray=True)\n",
    "\n",
    "plt.imshow(img, cmap = \"gray\")"
   ]
  },
  {
   "cell_type": "code",
   "execution_count": null,
   "id": "amended-nickname",
   "metadata": {},
   "outputs": [],
   "source": [
    "### Aquí su código!! (Implementación de la mascara en la imagen 'res/1000.jpg')"
   ]
  },
  {
   "cell_type": "markdown",
   "id": "utility-print",
   "metadata": {},
   "source": [
    "# Actividad 6"
   ]
  },
  {
   "cell_type": "markdown",
   "id": "functioning-heater",
   "metadata": {},
   "source": [
    "Lea la mascara \"res/mask3.png\" en escala de grises, y mediante las operaciones morfológicas obtenga el siguiente resultado (aproximado):\n",
    "<br>\n",
    "<img src=\"res/ans6.png\">"
   ]
  },
  {
   "cell_type": "markdown",
   "id": "checked-session",
   "metadata": {},
   "source": [
    "Luego implemente la operación lógica AND con la mascara resultante en la imagen 'res/114.jpg' y observe los resultados."
   ]
  },
  {
   "cell_type": "code",
   "execution_count": null,
   "id": "wanted-cuisine",
   "metadata": {},
   "outputs": [],
   "source": [
    "img = cv2.cvtColor(cv2.imread('res/114.jpg'), cv2.COLOR_BGR2RGB)\n",
    "\n",
    "plt.imshow(img)"
   ]
  },
  {
   "cell_type": "code",
   "execution_count": null,
   "id": "curious-strength",
   "metadata": {},
   "outputs": [],
   "source": [
    "### Aquí su código!!\n",
    "img = skimage.io.imread(\"res/mask3.jpg\", as_gray=True)\n",
    "\n",
    "plt.imshow(img, cmap = \"gray\")"
   ]
  },
  {
   "cell_type": "code",
   "execution_count": null,
   "id": "marked-template",
   "metadata": {},
   "outputs": [],
   "source": [
    "### Aquí su código!! (Implementación de la mascara en la imagen 'res/114.jpg')"
   ]
  },
  {
   "cell_type": "markdown",
   "id": "fallen-fifth",
   "metadata": {},
   "source": [
    "# Actividad 7"
   ]
  },
  {
   "cell_type": "markdown",
   "id": "floral-programmer",
   "metadata": {},
   "source": [
    "Lea la mascara \"res/mask4.png\" en escala de grises, y mediante las operaciones morfológicas obtenga el siguiente resultado (aproximado):\n",
    "<br>\n",
    "<img src=\"res/ans7.png\">"
   ]
  },
  {
   "cell_type": "markdown",
   "id": "intensive-myanmar",
   "metadata": {},
   "source": [
    "Luego implemente la operación lógica AND con la mascara resultante en la imagen 'res/1.jpg' y observe los resultados."
   ]
  },
  {
   "cell_type": "code",
   "execution_count": null,
   "id": "manual-federal",
   "metadata": {},
   "outputs": [],
   "source": [
    "img = cv2.cvtColor(cv2.imread('res/1.jpg'), cv2.COLOR_BGR2RGB)\n",
    "\n",
    "plt.imshow(img)"
   ]
  },
  {
   "cell_type": "code",
   "execution_count": null,
   "id": "experienced-highland",
   "metadata": {},
   "outputs": [],
   "source": [
    "### Aquí su código!!\n",
    "img = skimage.io.imread(\"res/mask4.jpg\", as_gray=True)\n",
    "\n",
    "plt.imshow(img, cmap=\"gray\")"
   ]
  },
  {
   "cell_type": "code",
   "execution_count": null,
   "id": "entertaining-klein",
   "metadata": {},
   "outputs": [],
   "source": [
    "### Aquí su código!! (Implementación de la mascara en la imagen 'res/1.jpg')"
   ]
  },
  {
   "cell_type": "markdown",
   "id": "valid-transaction",
   "metadata": {},
   "source": [
    "# Actividad 8"
   ]
  },
  {
   "cell_type": "markdown",
   "id": "eligible-defense",
   "metadata": {},
   "source": [
    "Lea la imagen 'res/2.jpg' y mediante las tecnicas de pre-procesamiento, segmentación y morfología  obtenga el siguiente resultado (aproximado):\n",
    "<br>\n",
    "<img src=\"res/ans8.png\">"
   ]
  },
  {
   "cell_type": "markdown",
   "id": "moving-fisher",
   "metadata": {},
   "source": [
    "Luego implemente la operación lógica AND con la mascara resultante en la imagen 'res/2.jpg' y observe los resultados."
   ]
  },
  {
   "cell_type": "code",
   "execution_count": null,
   "id": "personal-progress",
   "metadata": {},
   "outputs": [],
   "source": [
    "### Aquí su código!!\n",
    "img = cv2.cvtColor(cv2.imread('res/2.jpg'), cv2.COLOR_BGR2RGB)\n",
    "\n",
    "plt.imshow(img, cmap=\"gray\")"
   ]
  }
 ],
 "metadata": {
  "kernelspec": {
   "display_name": "Python 3",
   "language": "python",
   "name": "python3"
  },
  "language_info": {
   "codemirror_mode": {
    "name": "ipython",
    "version": 3
   },
   "file_extension": ".py",
   "mimetype": "text/x-python",
   "name": "python",
   "nbconvert_exporter": "python",
   "pygments_lexer": "ipython3",
   "version": "3.8.5"
  }
 },
 "nbformat": 4,
 "nbformat_minor": 5
}
