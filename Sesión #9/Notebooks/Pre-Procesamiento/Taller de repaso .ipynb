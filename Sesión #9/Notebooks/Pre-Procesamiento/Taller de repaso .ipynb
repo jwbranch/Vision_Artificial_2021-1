{
 "cells": [
  {
   "cell_type": "markdown",
   "metadata": {
    "id": "rAAQQ3E_E6Nr"
   },
   "source": [
    "# Pre-procesamiento Visión Artificial "
   ]
  },
  {
   "cell_type": "markdown",
   "metadata": {
    "id": "JqpfFqCYE6Nx"
   },
   "source": [
    "## Introducción"
   ]
  },
  {
   "cell_type": "markdown",
   "metadata": {
    "id": "Jh4li1VFE6Nx"
   },
   "source": [
    "<img src=\"res/pipeline.png\"/>\n",
    "\n",
    "El objetivo del preprocesamiento es mejorar la calidad y/o la apariencia de la imagen original para su análisis e interpretación.\n",
    "\n",
    "Se resaltan ciertas características de la imagen (bordes, contraste, …) y se ocultan o eliminan otras  (por ejemplo, el ruido)\n",
    "\n",
    "\n",
    "\n",
    "El preprocesamiento es una etapa previa que es necesaria para otras fases posteriores del proceso de visión artificial (segmentación, extracción de características, reconocimiento e interpretación).\n",
    "\n",
    "\n",
    "<img src=\"res/prepro.png\">\n",
    "\n"
   ]
  },
  {
   "cell_type": "markdown",
   "metadata": {
    "id": "cQcRJXhiE6Ny"
   },
   "source": [
    "<hr>\n",
    "\n",
    "## Histograma de una imagen\n",
    "<ul>\n",
    "    <li>El histograma de una imagen presenta la frecuencia de ocurrencia de los niveles de gris en la imagen, es decir, determina la distribución de frecuencias de los niveles de gris en la imagen.</li>\n",
    "    <br>\n",
    "    <li>Son un elemento importante en la etapa de Pre-procesamiento pues este nos ayuda a comprender y a determinar qué transformaciones usar para mejorar la calidad de una imagen.</li>\n",
    "</ul>\n",
    "<br>\n",
    "<center><i>Figura. Histograma de una imagen.</i></center>\n",
    "<img src=\"res/histograma.png\" alt=\"operaciones\" style=\"height:300px\"></img>\n",
    "<br>\n",
    "Un Ejemplo Simple …. Se trata de una imagen en niveles de gris muy simple, de 8x8 píxeles de tamaño. Sólo son posibles 4 niveles de gris, porque se van a usar 2 bits para codificar el nivel de intensidad de cada píxel. De la forma  habitual,  los  niveles  de  gris  se  numeran  del  0  al  3,  correspondiendo  un  brillo mayor a los valores más altos.\n",
    "<br>\n",
    "<center><i>Figura. ¿Cuál es el algoritmo para calcular el histograma?.</i></center>\n",
    "<img src=\"res/histograma_2.png\" alt=\"operaciones\" style=\"height:200px\"></img>\n",
    "<br>"
   ]
  },
  {
   "cell_type": "markdown",
   "metadata": {
    "id": "Hgvpeg6pE6Ny"
   },
   "source": [
    "Los histogramas (en su caso normalizado) se definen como la probabilidad de ocurrencia de un valor de gris, mediante la siguiente ecuación:\n",
    "<center><h2>$P(g)=\\frac{N(g)}{M}$</h2></center>\n",
    "<br>\n",
    "Donde N(g) es un contador de pixeles cuyo valor es g y M es el numero total de pixeles de la imagen.\n",
    "<br>\n",
    "<ul>"
   ]
  },
  {
   "cell_type": "markdown",
   "metadata": {
    "id": "6e2__UTzE6Ny"
   },
   "source": [
    "<li>Los histogramas son una herramienta para el análisis de imágenes que permite determinar qué tan bueno es el contraste y la iluminación de la escena en la imagen.</li>\n",
    "<li>En este sentido, el histograma nos ayuda a decidir cuál es el procesamiento más adecuado para mejorar la calidad de una imagen, tanto cualitativamente (nos sugiere qué operación aplicar), como cuantitativamente (en qué cantidad aplicar la operación).</li>\n",
    "<li>En principio, una buena imagen debe producir un histograma más o menos uniforme y repartido en todo el rango de valores de niveles de gris, teniendo en cuenta que:</li>\n",
    "    <ul>\n",
    "    <li>En la parte izquierda se acumulan los tonos más oscuros.</li>\n",
    "    <li>En la derecha se acumulan los más claros.</li>\n",
    "    </ul>\n",
    "</ul>\n",
    "\n",
    "<br>\n",
    "<hr>"
   ]
  },
  {
   "cell_type": "markdown",
   "metadata": {
    "id": "6Bs6BVpAE6Nz"
   },
   "source": [
    "Leamos las librerías útiles"
   ]
  },
  {
   "cell_type": "code",
   "execution_count": null,
   "metadata": {
    "id": "5WX9yIFcE6Nz"
   },
   "outputs": [],
   "source": [
    "import cv2\n",
    "import matplotlib.pyplot as plt\n",
    "import numpy as np\n",
    "import math\n",
    "from skimage import io, color\n",
    "\n",
    "#En este notebook se define una función que facilita la lectura de imágenes\n",
    "#Leer la imagen en RGB o escala de grises con una sola línea de código\n",
    "def img_read(filename, mode = 'color'):\n",
    "    if(mode == 'color'):   \n",
    "        return cv2.cvtColor(cv2.imread(filename),cv2.COLOR_BGR2RGB)\n",
    "    elif(mode=='grayscale' or mode=='greyscale' or mode == 'gray' or mode == 'grey'):\n",
    "        return cv2.imread(filename, cv2.IMREAD_GRAYSCALE)\n",
    "    else:\n",
    "        return None"
   ]
  },
  {
   "cell_type": "markdown",
   "metadata": {
    "id": "KXBAkl5EE6N0"
   },
   "source": [
    "Las primeras pinceladas del trabajo en Visión Artificial están basadas en el análisis de color de un problema dado, no siendo éste el único método de preprocesamiento y segmentación de elementos característicos, es muy intuitivo y relativamente sencillo de implementar.\n",
    "\n",
    "A continuación, observemos un poco del alcance de éste método. Supongamos que tenemos a nuestro alcance unas pelotas/círculos de distintos colores. ¿Cómo se observarían éstas en diferentes espacios de color?"
   ]
  },
  {
   "cell_type": "code",
   "execution_count": null,
   "metadata": {
    "id": "NPYk1vhtE6N0"
   },
   "outputs": [],
   "source": [
    "#Leer y plotear la imagen de trabajo\n",
    "img_rgb = img_read(\"res/colores.jpg\")\n",
    "plt.imshow(img)"
   ]
  },
  {
   "cell_type": "code",
   "execution_count": null,
   "metadata": {
    "id": "DX1LlLZCE6N0",
    "scrolled": false
   },
   "outputs": [],
   "source": [
    "img_R = img_rgb[:,:,0]\n",
    "img_G = img_rgb[:,:,1]\n",
    "img_B = img_rgb[:,:,2]\n",
    "\n",
    "img_lab  = cv2.cvtColor(img, cv2.COLOR_BGR2LAB)\n",
    "img_L = img_lab[:,:,0]\n",
    "img_A =  img_lab[:,:,1]\n",
    "img_BB = img_lab[:,:,2]\n",
    "fig, arreglo_plots = plt.subplots(6,2, figsize=(15, 25))\n",
    "colors = ('r','g','b')\n",
    "\n",
    "#Espacio de color RGB\n",
    "arreglo_plots[0,0].set_title('Canal R')\n",
    "arreglo_plots[0,0].imshow(img_R, cmap=\"gray\")\n",
    "arreglo_plots[0,1].set_title('Histograma Canal R')\n",
    "img_array_i = img_rgb[:,:,0].ravel()\n",
    "arreglo_plots[0,1].hist(img_array_i,histtype='step', bins=255, \n",
    "                            range=(0.0, 255.0),density=True, color=colors[0])\n",
    "\n",
    "arreglo_plots[1,0].set_title('Canal G')\n",
    "arreglo_plots[1,0].imshow(img_G, cmap=\"gray\")\n",
    "arreglo_plots[1,1].set_title('Histograma Canal G')\n",
    "img_array_i = img_rgb[:,:,1].ravel()\n",
    "arreglo_plots[1,1].hist(img_array_i,histtype='step', bins=255, \n",
    "                            range=(0.0, 255.0),density=True, color=colors[1])\n",
    "    \n",
    "arreglo_plots[2,0].set_title('Canal B')\n",
    "arreglo_plots[2,0].imshow(img_B, cmap=\"gray\")\n",
    "arreglo_plots[2,1].set_title('Histograma Canal B')\n",
    "img_array_i = img_rgb[:,:,2].ravel()\n",
    "arreglo_plots[2,1].hist(img_array_i,histtype='step', bins=255, \n",
    "                            range=(0.0, 255.0),density=True, color=colors[2])\n",
    "\n",
    "#Espacio de color LAB\n",
    "arreglo_plots[3,0].set_title('Canal L')\n",
    "arreglo_plots[3,0].imshow(img_L, cmap=\"gray\")\n",
    "arreglo_plots[3,1].set_title('Histograma Canal L')\n",
    "img_array_i = img_lab[:,:,0].ravel()\n",
    "arreglo_plots[3,1].hist(img_array_i,histtype='step', bins=255, \n",
    "                            range=(0.0, 255.0),density=True, color=colors[0])\n",
    "\n",
    "arreglo_plots[4,0].set_title('Canal A')\n",
    "arreglo_plots[4,0].imshow(img_A, cmap=\"gray\")\n",
    "arreglo_plots[4,1].set_title('Histograma Canal A')\n",
    "img_array_i = img_lab[:,:,1].ravel()\n",
    "arreglo_plots[4,1].hist(img_array_i,histtype='step', bins=255, \n",
    "                            range=(0.0, 255.0),density=True, color=colors[1])\n",
    "    \n",
    "arreglo_plots[5,0].set_title('Canal B')\n",
    "arreglo_plots[5,0].imshow(img_BB, cmap=\"gray\")\n",
    "arreglo_plots[5,1].set_title('Histograma Canal B*')\n",
    "img_array_i = img_lab[:,:,2].ravel()\n",
    "arreglo_plots[5,1].hist(img_array_i,histtype='step', bins=255, \n",
    "                            range=(0.0, 255.0),density=True, color=colors[2]);"
   ]
  },
  {
   "cell_type": "markdown",
   "metadata": {},
   "source": [
    "## Recordemos."
   ]
  },
  {
   "cell_type": "markdown",
   "metadata": {},
   "source": [
    "### ¿Si quisieramos separar las pelotas amarillas de la imagen, qué canal podríamos utilizar?"
   ]
  },
  {
   "cell_type": "code",
   "execution_count": null,
   "metadata": {},
   "outputs": [],
   "source": [
    "#Leer y plotear la imagen de trabajo\n",
    "plt.imshow(img_R, cmap = \"gray\")"
   ]
  },
  {
   "cell_type": "markdown",
   "metadata": {},
   "source": [
    "### Así mismo, ¿Hay algún contenido de rojo en los circulos cyan?"
   ]
  },
  {
   "cell_type": "code",
   "execution_count": null,
   "metadata": {},
   "outputs": [],
   "source": [
    "plt.imshow(img_R, cmap = \"gray\")"
   ]
  },
  {
   "cell_type": "markdown",
   "metadata": {},
   "source": [
    "### Como ejercicio rápido, probemos el canal HSV y comentemos el resultado."
   ]
  },
  {
   "cell_type": "code",
   "execution_count": null,
   "metadata": {},
   "outputs": [],
   "source": [
    "hsv = cv2.cvtColor(img_rgb,cv2.COLOR_RGB2HSV)\n",
    "\n",
    "h = hsv[:, :, 0]\n",
    "s = hsv[:, :, 1]\n",
    "v = hsv[:, :, 2]\n",
    "\n",
    "#Crear una figura 1x3 para mostrar las imágenes de entrada y la combinación ponderada\n",
    "fig = plt.figure(figsize=(15,24))\n",
    "\n",
    "plt.subplot(1,3,1)\n",
    "plt.imshow(h,cmap='gray')\n",
    "plt.title(\"Canal H\")\n",
    "\n",
    "plt.subplot(1,3,2)\n",
    "plt.imshow(s,cmap='gray')\n",
    "plt.title(\"Canal S\")\n",
    "\n",
    "plt.subplot(1,3,3)\n",
    "plt.imshow(v,cmap='gray')\n",
    "plt.title(\"Canal V\");"
   ]
  },
  {
   "cell_type": "markdown",
   "metadata": {},
   "source": [
    "### ¿Sería fácil aplicar una segmentación de tipo threshold sobre el canal B para separar  el circulo azul de los demás? ¿Por qué?"
   ]
  },
  {
   "cell_type": "code",
   "execution_count": null,
   "metadata": {
    "scrolled": true
   },
   "outputs": [],
   "source": [
    "ret,thresh2 = cv2.threshold(img_B,220,255,cv2.THRESH_BINARY)\n",
    "plt.imshow(thresh2, cmap = \"gray\")"
   ]
  },
  {
   "cell_type": "markdown",
   "metadata": {},
   "source": [
    "### Ejercicio 1 en clase (10min) "
   ]
  },
  {
   "cell_type": "markdown",
   "metadata": {},
   "source": [
    "### Leer la imagen que se encuentra en res/manzanas.jpeg"
   ]
  },
  {
   "cell_type": "code",
   "execution_count": null,
   "metadata": {},
   "outputs": [],
   "source": [
    "### Escriba su código acá ###"
   ]
  },
  {
   "cell_type": "markdown",
   "metadata": {},
   "source": [
    "### ¿Si quisieramos separar las manzanas rojas de las verdes qué canal podríamos utilizar?"
   ]
  },
  {
   "cell_type": "code",
   "execution_count": null,
   "metadata": {},
   "outputs": [],
   "source": [
    "### Escriba su código acá ###"
   ]
  },
  {
   "cell_type": "markdown",
   "metadata": {},
   "source": [
    "### ¿Si quisieramos separar las manzanas verdes de las rojas qué canal podríamos utilizar?"
   ]
  },
  {
   "cell_type": "code",
   "execution_count": null,
   "metadata": {},
   "outputs": [],
   "source": [
    "### Escriba su código acá ###"
   ]
  },
  {
   "cell_type": "markdown",
   "metadata": {},
   "source": [
    "### Ejercicio 2 en clase (10min)"
   ]
  },
  {
   "cell_type": "markdown",
   "metadata": {},
   "source": [
    "### Leer la imagen que se encuentra en res/omg.jpg"
   ]
  },
  {
   "cell_type": "code",
   "execution_count": null,
   "metadata": {},
   "outputs": [],
   "source": [
    "### Escriba su código acá ###"
   ]
  },
  {
   "cell_type": "markdown",
   "metadata": {},
   "source": [
    "### ¿Es posible separar la naranja de la mandarina? En caso que SÍ, ¿Qué canal podríamos utilizar? En caso que NO justifique..."
   ]
  },
  {
   "cell_type": "code",
   "execution_count": null,
   "metadata": {},
   "outputs": [],
   "source": [
    "### Escriba su código acá ###"
   ]
  },
  {
   "cell_type": "markdown",
   "metadata": {},
   "source": [
    "Justificación:"
   ]
  },
  {
   "cell_type": "markdown",
   "metadata": {},
   "source": [
    "### ¿Es posible separar la naranja y la mandarina del pomelo? En caso que SÍ, ¿Qué canal podríamos utilizar? En caso que NO justifique..."
   ]
  },
  {
   "cell_type": "code",
   "execution_count": null,
   "metadata": {},
   "outputs": [],
   "source": [
    "### Escriba su código acá ###"
   ]
  },
  {
   "cell_type": "markdown",
   "metadata": {},
   "source": [
    "Justificación:"
   ]
  },
  {
   "cell_type": "markdown",
   "metadata": {},
   "source": [
    "---"
   ]
  },
  {
   "cell_type": "markdown",
   "metadata": {},
   "source": [
    "Por otro lado, hemos recorrido las transformaciones lineales y no-lineales sobre las imágenes."
   ]
  },
  {
   "cell_type": "markdown",
   "metadata": {
    "id": "lJIZTDAPE6N0"
   },
   "source": [
    "## Suma ponderada."
   ]
  },
  {
   "cell_type": "code",
   "execution_count": null,
   "metadata": {
    "id": "ok2UJj_fE6N1"
   },
   "outputs": [],
   "source": [
    "#Leer las imágenes, hacerlas del mismo tamaño para poderlas sumar\n",
    "img1 = cv2.cvtColor(cv2.imread('res/meme.png'), cv2.COLOR_BGR2RGB)\n",
    "img2 = cv2.cvtColor(cv2.imread('res/transparent.jpg'), cv2.COLOR_BGR2RGB)\n",
    "img2 = cv2.resize(img2, (img1.shape[1], img1.shape[0]))\n",
    "\n",
    "#Indicamos el parámetro a que indica la importancia de cada imagen\n",
    "a = 0.5\n",
    "\n",
    "#Mediante la T.Lineal, si a=1, tenemos la imagen 1 únicamente. Si a=0, obtenemos solo img2.\n",
    "# Si 0<a<1 tendremos combinaciones ponderadas de las imágenes entrada\n",
    "res = cv2.add(img1*a,img2*(1-a)).astype(np.uint8)\n",
    "\n",
    "#Crear una figura 1x3 para mostrar las imágenes de entrada y la combinación ponderada\n",
    "fig = plt.figure(figsize=(15,24))\n",
    "\n",
    "plt.subplot(1,3,1)\n",
    "plt.imshow(img1,cmap='gray')\n",
    "plt.title(\"Imagen 1\")\n",
    "\n",
    "plt.subplot(1,3,2)\n",
    "plt.imshow(img2,cmap='gray')\n",
    "plt.title(\"Imagen 2\")\n",
    "\n",
    "plt.subplot(1,3,3)\n",
    "plt.imshow(res,cmap='gray')\n",
    "plt.title(\"Suma\");"
   ]
  },
  {
   "cell_type": "markdown",
   "metadata": {},
   "source": [
    "# Resaltar bordes"
   ]
  },
  {
   "cell_type": "code",
   "execution_count": null,
   "metadata": {},
   "outputs": [],
   "source": [
    "#Leer la imagen de entrada\n",
    "img1 =cv2.cvtColor(cv2.imread('res/gato.jpg'), cv2.COLOR_BGR2RGB)\n",
    "\n",
    "#Utilizamos la función cv2.Canny, que corresponde a un algoritmo de detección de bordes\n",
    "edges = cv2.Canny(img1,100,200)\n",
    "#Resaltar los bordes de blanco si sus pixeles son menores que un valor umbral\n",
    "edges[edges<128] = 0\n",
    "#Convertir la imagen edges a RGB\n",
    "edges = cv2.cvtColor(edges, cv2.COLOR_GRAY2RGB)\n",
    "edges[:,:,0]=0\n",
    "edges[:,:,1]=0               #para obtener el color magenta (255,0,255)\n",
    "\n",
    "#Crear una figura 1x3 para mostrar la imagen de entrada, la imagen obtenida con edges y la superposición\n",
    "fig = plt.figure(figsize=(15,24))\n",
    "\n",
    "plt.subplot(1,3,1)\n",
    "plt.imshow(img1,cmap='gray')\n",
    "plt.title(\"Imagen 1\")\n",
    "\n",
    "plt.subplot(1,3,2)\n",
    "plt.imshow(edges,cmap='gray')\n",
    "plt.title(\"Imagen 2\")\n",
    "\n",
    "plt.subplot(1,3,3)\n",
    "plt.imshow(cv2.add(img1,edges),cmap='gray')\n",
    "plt.title(\"Imagen 3\");"
   ]
  },
  {
   "cell_type": "markdown",
   "metadata": {},
   "source": [
    "## ¿Cómo se verían los bordes de color amarillo en la imagen gato2.jpg?"
   ]
  },
  {
   "cell_type": "markdown",
   "metadata": {
    "id": "C7XF03MrE6N1"
   },
   "source": [
    "# Resta."
   ]
  },
  {
   "cell_type": "code",
   "execution_count": null,
   "metadata": {
    "id": "vgO5oH-CE6N1"
   },
   "outputs": [],
   "source": [
    "#Lectura de las dos imágenes\n",
    "img1 = cv2.cvtColor(cv2.imread('res/correr.png'), cv2.COLOR_BGR2RGB)\n",
    "img2 = cv2.cvtColor(cv2.imread('res/correr2.png'), cv2.COLOR_BGR2RGB)\n",
    "\n",
    "#Conversión a tipo de dato uint16\n",
    "img1 = img1.astype(np.uint16)\n",
    "img2 = img2.astype(np.uint16)\n",
    "\n",
    "#Suma 125 unidades a img1, hace la resta de imágenes y los extraemos de nuevo\n",
    "img1 += 125\n",
    "res = img1 - img2\n",
    "img1 -= 125\n",
    "\n",
    "#Regresa al tipo de dato uint8 entre 0 y 255\n",
    "img1 = img1.astype(np.uint8)\n",
    "img2 = img2.astype(np.uint8)\n",
    "res=res.astype(np.uint8)\n",
    "\n",
    "#Genera una figura 1x3 para mostrar la imagen, una estimacion de fondo y la resta\n",
    "fig = plt.figure(figsize=(15,24))\n",
    "\n",
    "plt.subplot(1,3,1)\n",
    "plt.imshow(img1,cmap='gray')\n",
    "plt.title(\"Imagen\")\n",
    "\n",
    "plt.subplot(1,3,2)\n",
    "plt.imshow(img2,cmap='gray')\n",
    "plt.title(\"Imagen tras el movimiento\")\n",
    "\n",
    "plt.subplot(1,3,3)\n",
    "plt.imshow(res,cmap='gray')\n",
    "plt.title(\"Resta\");"
   ]
  },
  {
   "cell_type": "markdown",
   "metadata": {},
   "source": [
    "## Analicemos.\n",
    "\n",
    "## Comparemos la imagen \"res/correr.png\" y \"res/correr3.png\"."
   ]
  },
  {
   "cell_type": "markdown",
   "metadata": {
    "id": "cs0e4rjgE6N1"
   },
   "source": [
    "# Multiplicación."
   ]
  },
  {
   "cell_type": "code",
   "execution_count": null,
   "metadata": {
    "id": "ZMEzPRCBE6N2"
   },
   "outputs": [],
   "source": [
    "#Leer la imagen\n",
    "img = cv2.cvtColor(cv2.imread('res/gato2.jpg'), cv2.COLOR_BGR2RGB)\n",
    "\n",
    "#Leer la máscara y normalizarla, cambiar su tipo de dato y ajustar su tamaño\n",
    "mascara = cv2.imread('res/mascara.png')/255\n",
    "mascara = cv2.resize(mascara, (img.shape[1], img.shape[0])).astype(np.uint8)\n",
    "\n",
    "#Operación multiplicar\n",
    "out = cv2.multiply(img, mascara)\n",
    "\n",
    "#Figura 1x3 para mostrar imagen de entrada, máscara y la multiplicación\n",
    "fig, (ax1,ax2,ax3) = plt.subplots(1,3, figsize=(15, 7))\n",
    "ax1.set_title('Imagen de entrada')\n",
    "ax2.set_title('Máscara')\n",
    "ax3.set_title('Multiplicación')\n",
    "ax1.imshow(img, cmap='gray')\n",
    "ax2.imshow(mascara, cmap='gray', vmin = 0, vmax = 1)\n",
    "ax3.imshow(out, cmap='gray')"
   ]
  },
  {
   "cell_type": "code",
   "execution_count": null,
   "metadata": {
    "id": "uzRotLBXE6N2"
   },
   "outputs": [],
   "source": [
    "print(np.max(mascara))"
   ]
  },
  {
   "cell_type": "markdown",
   "metadata": {
    "id": "BHWcngyAE6N2"
   },
   "source": [
    "# División.\n",
    "\n",
    "A continuación comparemos el resultado entre las imágenes \"res/correr.png\" y \"res/correr2.png\", obtenido por resta y por división."
   ]
  },
  {
   "cell_type": "code",
   "execution_count": null,
   "metadata": {
    "id": "3D9UxnutE6N2"
   },
   "outputs": [],
   "source": [
    "#Lectura de imágenes de entrada, se ponen del mismo tamaño para poder operarlas\n",
    "img1 = cv2.cvtColor(cv2.imread('res/correr.png'), cv2.COLOR_BGR2RGB)\n",
    "img2 = cv2.cvtColor(cv2.imread('res/correr2.png'), cv2.COLOR_BGR2RGB)\n",
    "img2 = cv2.resize(img2, (img1.shape[1], img1.shape[0]))\n",
    "\n",
    "\n",
    "#RESTA\n",
    "img1 = img1.astype(np.uint16)\n",
    "img2 = img2.astype(np.uint16)\n",
    "img1 += 125\n",
    "res = img1 - img2\n",
    "res = res.astype(np.uint8)\n",
    "img1 -= 125\n",
    "img1 = img1.astype(np.uint8)\n",
    "img2 = img2.astype(np.uint8)\n",
    "\n",
    "#DIVISION\n",
    "\n",
    "#Es importante convertir los datos a flotante si se dispone a dividir\n",
    "img1_div = img1.astype(np.float32)\n",
    "img2_div = img2.astype(np.float32)\n",
    "div = cv2.divide(img1_div,img2_div)\n",
    "div = div * 100\n",
    "div = div.astype(np.uint8)\n",
    "\n",
    "#Crear figura 2x2 para mostrar las imágenes de entrada con sus operaciones respectivas\n",
    "fig = plt.figure(figsize=(15,10))\n",
    "\n",
    "plt.subplot(2,2,1)\n",
    "plt.imshow(img1,cmap='gray')\n",
    "plt.title(\"Imagen 1\")\n",
    "\n",
    "plt.subplot(2,2,2)\n",
    "plt.imshow(img2,cmap='gray')\n",
    "plt.title(\"Imagen 2\")\n",
    "\n",
    "plt.subplot(2,2,3)\n",
    "plt.imshow(res,cmap='gray')\n",
    "plt.title(\"Resta\")\n",
    "\n",
    "plt.subplot(2,2,4)\n",
    "plt.imshow(div,cmap='gray')\n",
    "plt.title(\"División\")"
   ]
  },
  {
   "cell_type": "markdown",
   "metadata": {},
   "source": [
    "### Ejercicio 3 en clase (5min)"
   ]
  },
  {
   "cell_type": "markdown",
   "metadata": {},
   "source": [
    "Tenemos las siguientes imagenes, en las siguientes direcciones \"res/1.png\", \"res/2.png\" y \"res/3.png\":\n",
    "\n",
    "<img src=\"res/imagenes.png\"/>"
   ]
  },
  {
   "cell_type": "code",
   "execution_count": null,
   "metadata": {},
   "outputs": [],
   "source": [
    "### Escriba su código acá ###"
   ]
  },
  {
   "cell_type": "markdown",
   "metadata": {},
   "source": [
    "### Salida esperada:\n",
    "\n",
    "<img src= \"res/resultado.png\">"
   ]
  },
  {
   "cell_type": "markdown",
   "metadata": {},
   "source": [
    "# Transformaciones Logicas."
   ]
  },
  {
   "cell_type": "code",
   "execution_count": null,
   "metadata": {},
   "outputs": [],
   "source": [
    "#Se leen las dos imágenes, la entrada I1 y la máscara I2\n",
    "I1= img_read(\"res/bool/gato.jpg\", \"gray\")\n",
    "I2= img_read(\"res/bool/globo.jpg\", \"gray\")\n",
    "\n",
    "\n",
    "#Se realiza una umbralización(conversión de la imagen a dos valores, 0 y 255)\n",
    "Umbral1,I1BN=cv2.threshold(I1,72,255, cv2.THRESH_BINARY)\n",
    "Umbral2,I2BN=cv2.threshold(I2,148,255, cv2.THRESH_BINARY)\n",
    "\n",
    "#Crear figura 2x2 para mostrar las imágenes de entrada con sus operaciones respectivas\n",
    "fig = plt.figure(figsize=(15,10))\n",
    "\n",
    "plt.subplot(2,2,1)\n",
    "plt.imshow(I1,cmap='gray')\n",
    "plt.title(\"Imagen del gato\")\n",
    "\n",
    "plt.subplot(2,2,2)\n",
    "plt.imshow(I1BN,cmap='gray')\n",
    "plt.title(\"Imagen del gato binarizada\")\n",
    "\n",
    "plt.subplot(2,2,3)\n",
    "plt.imshow(I2,cmap='gray')\n",
    "plt.title(\"Imagen del globo\")\n",
    "\n",
    "plt.subplot(2,2,4)\n",
    "plt.imshow(I2BN,cmap='gray')\n",
    "plt.title(\"Imagen del globo binarizada\")\n"
   ]
  },
  {
   "cell_type": "markdown",
   "metadata": {},
   "source": [
    "# Operadores AND, OR, XOR y NOT"
   ]
  },
  {
   "cell_type": "code",
   "execution_count": null,
   "metadata": {},
   "outputs": [],
   "source": [
    "#R1, corresponde a la operación AND aplicada sobre I1BN e I2BN, análogo al out.\n",
    "R1 = cv2.bitwise_and(I1BN,I2BN)\n",
    "\n",
    "#R2, corresponde a la operación OR aplicada sobre I1BN e I2BN.\n",
    "R2 = cv2.bitwise_or(I1BN,I2BN)\n",
    "\n",
    "#R3, corresponde a la operación XOR aplicada sobre I1BN e I2BN.\n",
    "R3 =cv2.bitwise_xor(I1BN,I2BN)\n",
    "\n",
    "#R4, corresponde a la operación NOT aplicada sobre I1BN e I2BN.\n",
    "R4 =cv2.bitwise_not(I1BN)\n",
    "\n",
    "#Crear figura 2x2 para mostrar las imágenes de entrada con sus operaciones respectivas\n",
    "fig = plt.figure(figsize=(15,10))\n",
    "\n",
    "plt.subplot(2,2,1)\n",
    "plt.imshow(R1,cmap='gray')\n",
    "plt.title(\"Operador AND\")\n",
    "\n",
    "plt.subplot(2,2,2)\n",
    "plt.imshow(R2,cmap='gray')\n",
    "plt.title(\"Operador OR\")\n",
    "\n",
    "plt.subplot(2,2,3)\n",
    "plt.imshow(R3,cmap='gray')\n",
    "plt.title(\"Operador XOR\")\n",
    "\n",
    "plt.subplot(2,2,4)\n",
    "plt.imshow(R4,cmap='gray')\n",
    "plt.title(\"Operador NOT\")"
   ]
  },
  {
   "cell_type": "markdown",
   "metadata": {},
   "source": [
    "### Ejercicio 4 en clase (10min)"
   ]
  },
  {
   "cell_type": "markdown",
   "metadata": {},
   "source": [
    "Tenemos las siguientes figuras:\n",
    "\n",
    "<img src= \"res/figuras.png\">"
   ]
  },
  {
   "cell_type": "code",
   "execution_count": null,
   "metadata": {},
   "outputs": [],
   "source": [
    "### Escriba su código acá ###\n",
    "cuadrado = img_read(\"res/cuadrado.jpg\", \"gray\")\n",
    "circulo = img_read(\"res/circulo.jpg\", \"gray\")\n",
    "\n",
    "resultado = None\n",
    "\n",
    "plt.imshow(resultado, cmap=\"gray\")"
   ]
  },
  {
   "cell_type": "markdown",
   "metadata": {},
   "source": [
    "### Salida esperada:\n",
    "\n",
    "<img src= \"res/logico.jpg\">"
   ]
  },
  {
   "cell_type": "markdown",
   "metadata": {
    "id": "rcoZPF4OE6N3"
   },
   "source": [
    "# Traslación."
   ]
  },
  {
   "cell_type": "code",
   "execution_count": null,
   "metadata": {
    "id": "NAW4P91VE6N3"
   },
   "outputs": [],
   "source": [
    "import cv2\n",
    "from matplotlib import pyplot as plt\n",
    "import numpy as np\n",
    "\n",
    "#Lectura de la imagen en escala de grises\n",
    "img =cv2.imread('res/gato.jpg',cv2.IMREAD_GRAYSCALE)\n",
    "#Se obtienen los vectores filas, columnas\n",
    "filas,columnas = img.shape\n",
    "#Se asignan valores a tx y ty, se construye la matriz M de translación\n",
    "tx = 15\n",
    "ty = 15\n",
    "matriz_afin = np.float32([[1,0,tx],\n",
    "                          [0,1,ty]])\n",
    "\n",
    "#Transformación de la imagen con base en la matriz M, usando warpAffine\n",
    "res = cv2.warpAffine(img,matriz_afin,(columnas,filas))# , flags=cv2.INTER_CUBIC)\n",
    "\n",
    "#Figura 1x2 para mostrar la entrada y la salida\n",
    "fig = plt.figure(figsize=(10,12))\n",
    "\n",
    "plt.subplot(1,2,1)\n",
    "plt.imshow(img,cmap='gray')\n",
    "plt.title(\"Imagen Original\")\n",
    "\n",
    "plt.subplot(1,2,2)\n",
    "plt.imshow(res,cmap='gray')\n",
    "plt.title(\"Imagen Salida\")\n"
   ]
  },
  {
   "cell_type": "markdown",
   "metadata": {
    "id": "Xh7uY76UE6N3"
   },
   "source": [
    "# Rotación.\n",
    "\n",
    "Es posible rotar la imagen cierta cantidad de grados utilizando las matrices correctas."
   ]
  },
  {
   "cell_type": "code",
   "execution_count": null,
   "metadata": {
    "id": "Ko4kJskbE6N3"
   },
   "outputs": [],
   "source": [
    "#Lectura de la imagen de entrada\n",
    "img =cv2.imread('res/gato2.jpg',cv2.IMREAD_GRAYSCALE)\n",
    "#Obtener los datos de filas y columnas de la imagen\n",
    "filas,columnas = img.shape\n",
    "\n",
    "#Asignar un ángulo de rotación\n",
    "theta = 30\n",
    "\n",
    "#Selección del eje de rotación\n",
    "rotation_center = ((columnas/2,filas/2))\n",
    "#rotation_center = ((0,0))\n",
    "\n",
    "#Con base en el ángulo, utilizar getRotationMatrix2D de cv2\n",
    "matriz_afin_rot = cv2.getRotationMatrix2D(rotation_center,theta,1)\n",
    "#Mostrar la matriz calculada\n",
    "print(matriz_afin_rot)\n",
    "\n",
    "#Aplicar la matriz obtenida sobre la imagen leída\n",
    "rot = cv2.warpAffine(img,matriz_afin_rot,(columnas,filas))\n",
    "\n",
    "#Figura 1x2 para mostrar imagen original y resultados\n",
    "fig = plt.figure(figsize=(10,12))\n",
    "\n",
    "plt.subplot(1,2,1)\n",
    "plt.imshow(img,cmap='gray')\n",
    "plt.title(\"Imagen Original\")\n",
    "\n",
    "plt.subplot(1,2,2)\n",
    "plt.imshow(rot,cmap='gray')\n",
    "plt.title(\"Imagen Salida\");"
   ]
  },
  {
   "cell_type": "markdown",
   "metadata": {
    "id": "f_AkN_hKE6N3"
   },
   "source": [
    "# Inclinación."
   ]
  },
  {
   "cell_type": "code",
   "execution_count": null,
   "metadata": {
    "id": "BIm6jJDFE6N4"
   },
   "outputs": [],
   "source": [
    "#Lectura de imagen de entrada y obtención de filas y columnas\n",
    "img =cv2.imread('res/gato.jpg',cv2.IMREAD_GRAYSCALE)\n",
    "filas,columnas = img.shape\n",
    "\n",
    "#Con base en la teoría, crear la matriz M de inclinación\n",
    "#reemplazando los valores b y d\n",
    "inc_x = 0.0\n",
    "inc_y = 0.5\n",
    "matriz_afin = np.float32([[1,inc_x,0],\n",
    "                          [inc_y,1,0]])\n",
    "\n",
    "#Aplicar la matriz generada a la imagen leída\n",
    "res = cv2.warpAffine(img,matriz_afin,(columnas,filas))\n",
    "\n",
    "#Generar la figura 1x2 y mostrar entrada vs resultados\n",
    "fig = plt.figure(figsize=(10,12))\n",
    "\n",
    "plt.subplot(1,2,1)\n",
    "plt.imshow(img,cmap='gray')\n",
    "plt.title(\"Imagen Original\")\n",
    "\n",
    "plt.subplot(1,2,2)\n",
    "plt.imshow(res,cmap='gray')\n",
    "plt.title(\"Imagen Salida\")"
   ]
  },
  {
   "cell_type": "markdown",
   "metadata": {
    "id": "nP3KecvKE6N4"
   },
   "source": [
    "# Interpolación."
   ]
  },
  {
   "cell_type": "code",
   "execution_count": null,
   "metadata": {
    "id": "zD5sTfk9E6N4"
   },
   "outputs": [],
   "source": [
    "#Leer la imagen de entrada a color y convertirla RGB\n",
    "img=cv2.imread('res/gato.jpg',cv2.IMREAD_COLOR)\n",
    "img = cv2.cvtColor(img, cv2.COLOR_BGR2RGB)\n",
    "\n",
    "#Acercar la imagen de entrada con base en una aproximación de vecinos cercanos\n",
    "#o interpolación bilinear/bicúbica\n",
    "nearest = cv2.resize(img,(img.shape[1]*4, img.shape[0]*4), interpolation = cv2.INTER_NEAREST)\n",
    "bilinear = cv2.resize(img,None,fx=4, fy=4, interpolation = cv2.INTER_LINEAR)\n",
    "bicubic = cv2.resize(img,None,fx=4, fy=4, interpolation = cv2.INTER_CUBIC)\n",
    "\n",
    "#Generar figura 2x2 para mostrar y contrastar las aproximaciones con la imagen original\n",
    "fig = plt.figure(figsize=(12,12))\n",
    "\n",
    "plt.subplot(2,2,1)\n",
    "plt.imshow(img,cmap='gray')\n",
    "plt.title(\"Imagen Original\")\n",
    "\n",
    "plt.subplot(2,2,2)\n",
    "plt.imshow(nearest,cmap='gray')\n",
    "plt.title(\"Interpolación vecinos más cercanos\")\n",
    "\n",
    "plt.subplot(2,2,3)\n",
    "plt.imshow(bilinear,cmap='gray')\n",
    "plt.title(\"Interpolación bilineal\")\n",
    "\n",
    "plt.subplot(2,2,4)\n",
    "plt.imshow(bilinear,cmap='gray')\n",
    "plt.title(\"Interpolación bicúbica\")\n",
    "\n",
    "#Guardar las imágenes en la carpeta del notebook\n",
    "nearest = cv2.cvtColor(nearest, cv2.COLOR_BGR2RGB)\n",
    "bilinear = cv2.cvtColor(bilinear, cv2.COLOR_BGR2RGB)\n",
    "bicubic = cv2.cvtColor(bicubic, cv2.COLOR_BGR2RGB)\n",
    "\n",
    "\n",
    "cv2.imwrite(\"nearest.jpg\", nearest);\n",
    "cv2.imwrite(\"bilinear.jpg\", bilinear);\n",
    "cv2.imwrite(\"bicubic.jpg\", bicubic);"
   ]
  },
  {
   "cell_type": "markdown",
   "metadata": {
    "id": "R8N9dh8tE6N4"
   },
   "source": [
    "# Rápidamente, recordemos suma, resta, multiplicación y división sobre el histograma. Y algún caso especial de éstas transformaciones.\n",
    "\n",
    "# Suma"
   ]
  },
  {
   "cell_type": "code",
   "execution_count": null,
   "metadata": {
    "id": "OD3pfNNuE6N5"
   },
   "outputs": [],
   "source": [
    "#Se realiza la lectura de la imagen\n",
    "img = cv2.cvtColor(cv2.imread('res/gato.jpg'), cv2.COLOR_BGR2RGB)\n",
    "#img_add es una matriz de ceros del mismo tamaño de la imagen original, corresponde a una copia para editar.\n",
    "#el tipo de dato debe ser uint8 para estar entre 0 y 255\n",
    "img_add = np.zeros(img.shape, np.uint8)\n",
    "\n",
    "#A cada uno de los canales de img se le suman q,w,e unidades. \n",
    "q = 50 ; w = 50; e = 50\n",
    "#Se sustituyen los valores de cada canal de la copia por los valores modificados de la imagen original\n",
    "img_add[:,:,0] = cv2.add(img[:,:,0], q)\n",
    "img_add[:,:,1] = cv2.add(img[:,:,1], w)\n",
    "img_add[:,:,2] = cv2.add(img[:,:,2], e)\n",
    "\n",
    "#Se realiza el arreglo de 2x2 para mostrar imagen e imagen modificada vs histogramas\n",
    "fig, arreglo_plots = plt.subplots(2,2, figsize=(15, 15))\n",
    "colors = ('r','g','b')\n",
    "\n",
    "#Se le dan títulos a los cuadros, se imprimen las imágenes y sus histogramas\n",
    "arreglo_plots[0,0].set_title('Imagen original')\n",
    "arreglo_plots[0,0].imshow(img, cmap=\"gray\")\n",
    "arreglo_plots[0,1].set_title('Histograma original')\n",
    "for i,col in enumerate(colors):\n",
    "    img_array_i = img[:,:,i].ravel()\n",
    "    arreglo_plots[0,1].hist(img_array_i,histtype='step', bins=255, \n",
    "                            range=(0.0, 255.0),density=True, color=colors[i])\n",
    "\n",
    "arreglo_plots[1,0].set_title('Imagen modificada')\n",
    "arreglo_plots[1,0].imshow(img_add, cmap=\"gray\")\n",
    "arreglo_plots[1,1].set_title('Histograma modificado')\n",
    "for i,col in enumerate(colors):\n",
    "    img_array_i = img_add[:,:,i].ravel()\n",
    "    arreglo_plots[1,1].hist(img_array_i,histtype='step', bins=255, \n",
    "                            range=(0.0, 255.0),density=True, color=colors[i])"
   ]
  },
  {
   "cell_type": "markdown",
   "metadata": {
    "id": "9RsKmrvZE6N5"
   },
   "source": [
    "# Resta"
   ]
  },
  {
   "cell_type": "code",
   "execution_count": null,
   "metadata": {
    "id": "XYK21MkKE6N5"
   },
   "outputs": [],
   "source": [
    "#Se lee la imagen \n",
    "img = cv2.cvtColor(cv2.imread('res/gato2.jpg'), cv2.COLOR_BGR2RGB)\n",
    "#Se crea la imagen copia para editarla\n",
    "img_subtract = np.zeros(img.shape, np.uint8)\n",
    "#Se restan q,w,e unidades a los canales de img.\n",
    "#Se sustituyen los valores de cada canal de la copia por los valores modificados de la imagen original\n",
    "q = 0; w = 0; e = 0\n",
    "img_subtract[:,:,0] = cv2.subtract(img[:,:,0], q)\n",
    "img_subtract[:,:,1] = cv2.subtract(img[:,:,1], w)\n",
    "img_subtract[:,:,2] = cv2.subtract(img[:,:,2], e)\n",
    "\n",
    "#Se realiza el arreglo de 2x2 para mostrar imagen e imagen modificada vs histogramas\n",
    "fig, arreglo_plots = plt.subplots(2,2, figsize=(15, 15))\n",
    "colors = ('r','g','b')\n",
    "\n",
    "#Se le dan títulos a los cuadros, se imprimen las imágenes y sus histogramas\n",
    "arreglo_plots[0,0].set_title('Imagen original')\n",
    "arreglo_plots[0,0].imshow(img, cmap=\"gray\")\n",
    "arreglo_plots[0,1].set_title('Histograma original')\n",
    "for i,col in enumerate(colors):\n",
    "    img_array_i = img[:,:,i].ravel()\n",
    "    arreglo_plots[0,1].hist(img_array_i,histtype='step', bins=255, \n",
    "                            range=(0.0, 255.0),density=True, color=colors[i])\n",
    "\n",
    "arreglo_plots[1,0].set_title('Imagen modificada')\n",
    "arreglo_plots[1,0].imshow(img_subtract, cmap=\"gray\")\n",
    "arreglo_plots[1,1].set_title('Histograma modificado')\n",
    "for i,col in enumerate(colors):\n",
    "    img_array_i = img_subtract[:,:,i].ravel()\n",
    "    arreglo_plots[1,1].hist(img_array_i,histtype='step', bins=255, \n",
    "                            range=(0.0, 255.0),density=True, color=colors[i])"
   ]
  },
  {
   "cell_type": "markdown",
   "metadata": {},
   "source": [
    "## Analicemos.\n",
    "## ¿Qué modifican los valores de las variables q,w,e? ¿Qué ocurre si al modificarlos, en suma y resta, q>>w & q >>e"
   ]
  },
  {
   "cell_type": "markdown",
   "metadata": {
    "id": "zZXJo7z2E6N6"
   },
   "source": [
    "# Multiplicación/División"
   ]
  },
  {
   "cell_type": "code",
   "execution_count": null,
   "metadata": {
    "id": "QfmVi9nLE6N6"
   },
   "outputs": [],
   "source": [
    "#Se lee la imagen\n",
    "img = cv2.cvtColor(cv2.imread('res/gato.jpg'), cv2.COLOR_BGR2RGB)\n",
    "#Se crea la imagen copia\n",
    "img_mult = np.zeros(img.shape, np.uint8)\n",
    "\n",
    "#Se multiplican los valores de cada canal de img por q,w,e unidades\n",
    "#Se sustituyen los valores de cada canal de la copia por los valores modificados de la imagen original\n",
    "r = 2; g = 2; b = 2\n",
    "img_mult[:,:,0] = cv2.multiply(img[:,:,0], q)\n",
    "img_mult[:,:,1] = cv2.multiply(img[:,:,1], w)\n",
    "img_mult[:,:,2] = cv2.multiply(img[:,:,2], e)\n",
    "\n",
    "#Se realiza el arreglo de 2x2 para mostrar imagen e imagen modificada vs histogramas\n",
    "fig, arreglo_plots = plt.subplots(2,2, figsize=(15, 15))\n",
    "colors = ('r','g','b')\n",
    "\n",
    "#Se le dan títulos a los cuadros, se imprimen las imágenes y sus histogramas\n",
    "arreglo_plots[0,0].set_title('Imagen original')\n",
    "arreglo_plots[0,0].imshow(img, cmap=\"gray\")\n",
    "arreglo_plots[0,1].set_title('Histograma original')\n",
    "for i,col in enumerate(colors):\n",
    "    img_array_i = img[:,:,i].ravel()\n",
    "    arreglo_plots[0,1].hist(img_array_i,histtype='step', bins=255, \n",
    "                            range=(0.0, 255.0),density=True, color=colors[i])\n",
    "\n",
    "arreglo_plots[1,0].set_title('Imagen modificada')\n",
    "arreglo_plots[1,0].imshow(img_mult, cmap=\"gray\")\n",
    "arreglo_plots[1,1].set_title('Histograma modificado')\n",
    "for i,col in enumerate(colors):\n",
    "    img_array_i = img_mult[:,:,i].ravel()\n",
    "    arreglo_plots[1,1].hist(img_array_i,histtype='step', bins=255, \n",
    "                            range=(0.0, 255.0),density=True, color=colors[i])"
   ]
  },
  {
   "cell_type": "markdown",
   "metadata": {},
   "source": [
    "## Analicemos.\n",
    "## Modifique el código anterior y obtenga la operación división. De nuevo, varíe de forma antisimétrica los valores de q,w,e."
   ]
  },
  {
   "cell_type": "markdown",
   "metadata": {},
   "source": [
    "# La transformación Gamma.\n",
    "\n",
    "La corrección Gamma tienes su raíces en la forma en que los humanos percibimos la luz y el color. Esta percepción es de tipo no lineal y en condiciones de iluminación normal sigue un comportamiento de potencia.\n",
    "\n",
    "Gamma puede adquirir valores 0 < gamma < 1 y aparentar una raíz. Así mismo, puede ser gamma > 1 y actuar como una potencia."
   ]
  },
  {
   "cell_type": "code",
   "execution_count": null,
   "metadata": {},
   "outputs": [],
   "source": [
    "#Definir la función para aplicar la transformación sobre la imagen RGB\n",
    "def apply_f_on_rgb(img, f, args):\n",
    "    \n",
    "    #Crear una matriz de ceros del tamaño de la imagen de entrada\n",
    "    res = np.zeros(img.shape, np.uint8)\n",
    "    #Aplicar la transformación f sobre cada canal del espacio de color RGB\n",
    "    res[:,:,0] = f(img[:,:,0], *args)\n",
    "    res[:,:,1] = f(img[:,:,1], *args)\n",
    "    res[:,:,2] = f(img[:,:,2], *args)\n",
    "    \n",
    "    return res\n",
    "\n",
    "#Definir la función de transformación de la imagen (corrección gamma)\n",
    "def gamma_correction(img, a, gamma):\n",
    "    \n",
    "    #Crear copia de la imagen tipo flotante dada la normalización\n",
    "    img_copy = img.copy().astype(np.float32)/255.0\n",
    "    #La función corrección gamma es de la forma ax^gamma, donde x es la imagen de entrada\n",
    "    res_gamma = cv2.pow(img_copy,gamma)\n",
    "    res = cv2.multiply(res_gamma, a)\n",
    "    \n",
    "    #Asegurar que la los datos queden entre 0 y 255 y sean uint8\n",
    "    res[res<0] = 0\n",
    "    res = res*255.0\n",
    "    res[res>255] = 255\n",
    "    \n",
    "    res = res.astype(np.uint8)\n",
    "    \n",
    "    return res\n",
    "\n",
    "#Leer la imagen de entrada\n",
    "img = cv2.cvtColor(cv2.imread('res/gato.jpg'), cv2.COLOR_BGR2RGB)\n",
    "\n",
    "#Dar valor a los parámetros a,gamma (args)\n",
    "a = 1\n",
    "gamma = 0.2\n",
    "\n",
    "#Aplicar la transformación corrección gamma sobre la imagen de entrada\n",
    "res_brillante = apply_f_on_rgb(img, gamma_correction, [a, gamma])\n",
    "\n",
    "#Variar los parámetros a y gamma y volver a aplicar la corrección\n",
    "a = 1\n",
    "gamma = 2\n",
    "\n",
    "res_oscuro = apply_f_on_rgb(img, gamma_correction, [a, gamma])\n",
    "\n",
    "#Generar un subplot 2x2 para contrastar imágen original con transformada y sus histogramas\n",
    "fig, arreglo_plots = plt.subplots(3,2, figsize=(15, 25))\n",
    "colors = ('r','g','b')\n",
    "\n",
    "arreglo_plots[0,0].set_title('Imagen original')\n",
    "arreglo_plots[0,0].imshow(img, cmap=\"gray\")\n",
    "arreglo_plots[0,1].set_title('Histograma original')\n",
    "for i,col in enumerate(colors):\n",
    "    img_array_i = img[:,:,i].ravel()\n",
    "    arreglo_plots[0,1].hist(img_array_i,histtype='step', bins=255, \n",
    "                            range=(0.0, 255.0),density=True, color=colors[i])\n",
    "\n",
    "arreglo_plots[1,0].set_title('Imagen con incremento de brillo')\n",
    "arreglo_plots[1,0].imshow(res_brillante, cmap=\"gray\")\n",
    "arreglo_plots[1,1].set_title('Histograma modificado')\n",
    "for i,col in enumerate(colors):\n",
    "    img_array_i = res_brillante[:,:,i].ravel()\n",
    "    arreglo_plots[1,1].hist(img_array_i,histtype='step', bins=255, \n",
    "                            range=(0.0, 255.0),density=True, color=colors[i])\n",
    "    \n",
    "arreglo_plots[2,0].set_title('Imagen con reducción de brillo')\n",
    "arreglo_plots[2,0].imshow(res_oscuro, cmap=\"gray\")\n",
    "arreglo_plots[2,1].set_title('Histograma modificado')\n",
    "for i,col in enumerate(colors):\n",
    "    img_array_i = res_oscuro[:,:,i].ravel()\n",
    "    arreglo_plots[2,1].hist(img_array_i,histtype='step', bins=255, \n",
    "                            range=(0.0, 255.0),density=True, color=colors[i])"
   ]
  },
  {
   "cell_type": "markdown",
   "metadata": {
    "id": "oqPBnzpoE6N6"
   },
   "source": [
    "# Ecualización del histograma."
   ]
  },
  {
   "cell_type": "code",
   "execution_count": null,
   "metadata": {
    "id": "ne8bFW6VE6N6"
   },
   "outputs": [],
   "source": [
    "#Definir la función para aplicar la transformación sobre la imagen RGB\n",
    "def apply_f_on_rgb(img, f, args):\n",
    "    \n",
    "    #Crear una matriz de ceros del tamaño de la imagen de entrada\n",
    "    res = np.zeros(img.shape, np.uint8)\n",
    "    #Aplicar la transformación f sobre cada canal del espacio de color RGB\n",
    "    res[:,:,0] = f(img[:,:,0], *args)\n",
    "    res[:,:,1] = f(img[:,:,1], *args)\n",
    "    res[:,:,2] = f(img[:,:,2], *args)\n",
    "    \n",
    "    return res\n",
    "\n",
    "#Definir la función ecualización del histograma cuyo parámetro es una imagen\n",
    "def histogram_equalization(img):\n",
    "     \n",
    "    #Crear matriz de ceros del tamaño de la imagen y tipo de dato flotante\n",
    "    res = np.zeros(img.shape, np.float32)\n",
    "    #Crear un vector 1-D de la matriz de la imagen, es decir \"aplanarla\"\n",
    "    img_raveled = img.ravel()\n",
    "    #Generar el histograma normalizado de la imagen \n",
    "    hist_norm = plt.hist(img_raveled, bins=255, range=(0.0, 255.0), density=True)\n",
    "    #Limpiar la figura actual\n",
    "    plt.clf()\n",
    "    #hist_norm[0] es un vector de probabilidades. Añadir al vector, el valor [1 - sumatoria de sus datos]\n",
    "    pdf = hist_norm[0]\n",
    "    np.append(pdf, 1.0 - np.sum(pdf))\n",
    "    #Dado que se añade un dato, se realiza la sumatoria de valores sobre todo el vector\n",
    "    cdf = [np.sum(pdf[0:x]) for x in range(0,256)]\n",
    "    #Hallar el valor mínimo y máximo de la imagen\n",
    "    gmin = np.min(img)\n",
    "    gmax = np.max(img)\n",
    "    \n",
    "    #Generar F(g) - Función de ecualización\n",
    "    for g in range(0,256):\n",
    "        res[img == g] = (gmax - gmin)*cdf[g] + gmin\n",
    "    #Asegurar que los datos sean uint8 y esten en el rango correspondiente\n",
    "    res[res<0] = 0\n",
    "    res[res>255] = 255\n",
    "    res = res.astype(np.uint8)\n",
    "    return res\n",
    "\n",
    "#Leer la imagen y aplicar la transformación ecualización del histograma sobre ésta    \n",
    "img = cv2.cvtColor(cv2.imread('res/gato.jpg'), cv2.COLOR_BGR2RGB)\n",
    "res = apply_f_on_rgb(img, histogram_equalization, [])\n",
    "\n",
    "#Generar subplot 2x3 para mostrar imagen, histograma y función de densidad acumulada\n",
    "fig, arreglo_plots = plt.subplots(2,2, figsize=(10, 10))\n",
    "colors = ('r','g','b')\n",
    "\n",
    "arreglo_plots[0,0].set_title('Imagen original')\n",
    "arreglo_plots[0,0].imshow(img, cmap=\"gray\")\n",
    "arreglo_plots[0,1].set_title('Histograma original')\n",
    "for i,col in enumerate(colors):\n",
    "    img_array_i = img[:,:,i].ravel()\n",
    "    arreglo_plots[0,1].hist(img_array_i,histtype='step', bins=255, \n",
    "                            range=(0.0, 255.0),density=True, color=colors[i])\n",
    "    \n",
    "arreglo_plots[1,0].set_title('Imagen modificada')\n",
    "arreglo_plots[1,0].imshow(res, cmap=\"gray\")\n",
    "arreglo_plots[1,1].set_title('Histograma modificado')\n",
    "for i,col in enumerate(colors):\n",
    "    img_array_i = res[:,:,i].ravel()\n",
    "    arreglo_plots[1,1].hist(img_array_i,histtype='step', bins=255, \n",
    "                            range=(0.0, 255.0),density=True, color=colors[i], cumulative = False)\n"
   ]
  },
  {
   "cell_type": "markdown",
   "metadata": {},
   "source": [
    "# Expansión (normalización) del histograma.\n"
   ]
  },
  {
   "cell_type": "code",
   "execution_count": null,
   "metadata": {},
   "outputs": [],
   "source": [
    "#Definir la función para aplicar la transformación sobre la imagen RGB\n",
    "def apply_f_on_rgb(img, f, args):\n",
    "    \n",
    "    #Crear una matriz de ceros del tamaño de la imagen de entrada\n",
    "    res = np.zeros(img.shape, np.uint8)\n",
    "    #Aplicar la transformación f sobre cada canal del espacio de color RGB\n",
    "    res[:,:,0] = f(img[:,:,0], *args)\n",
    "    res[:,:,1] = f(img[:,:,1], *args)\n",
    "    res[:,:,2] = f(img[:,:,2], *args)\n",
    "    \n",
    "    return res\n",
    "\n",
    "#Definir la función expansión del histograma cuyo parámetro es una imagen\n",
    "def histogram_expansion(img):\n",
    "    \n",
    "    #Crear matriz de ceros del tamaño de la imagen y tipo de dato flotante\n",
    "    res = np.zeros([img.shape[0], img.shape[1]], dtype=np.float32)\n",
    "    \n",
    "    #Extraer el mínimo y el máximo del conjunto de datos\n",
    "    m = float(np.min(img))\n",
    "    M = float(np.max(img))\n",
    "    #Aplicar la función de expansión(normalización) y asegurar datos uint8\n",
    "    res = (img-m)*255.0/(M-m)\n",
    "    res = res.astype(np.uint8)\n",
    "    \n",
    "    return res\n",
    "\n",
    "#Leer la imagen de entrada\n",
    "img = cv2.cvtColor(cv2.imread('res/valle.png'), cv2.COLOR_BGR2RGB)\n",
    "\n",
    "#Aplicar la transformación expansión de histograma sobre la imagen de entrada\n",
    "res = apply_f_on_rgb(img, histogram_expansion, [])\n",
    "\n",
    "#Generar un subplot 2x2 para contrastar imágen original con transformada y sus histogramas\n",
    "fig, arreglo_plots = plt.subplots(2,2, figsize=(10, 10))\n",
    "colors = ('r','g','b')\n",
    "\n",
    "arreglo_plots[0,0].set_title('Imagen original')\n",
    "arreglo_plots[0,0].imshow(img, cmap=\"gray\")\n",
    "arreglo_plots[0,1].set_title('Histograma original')\n",
    "for i,col in enumerate(colors):\n",
    "    img_array_i = img[:,:,i].ravel()\n",
    "    arreglo_plots[0,1].hist(img_array_i,histtype='step', bins=255, \n",
    "                            range=(0.0, 255.0),density=True, color=colors[i])\n",
    "\n",
    "arreglo_plots[1,0].set_title('Imagen modificada')\n",
    "arreglo_plots[1,0].imshow(res, cmap=\"gray\")\n",
    "arreglo_plots[1,1].set_title('Histograma modificado')\n",
    "for i,col in enumerate(colors):\n",
    "    img_array_i = res[:,:,i].ravel()\n",
    "    arreglo_plots[1,1].hist(img_array_i,histtype='step', bins=255, \n",
    "                            range=(0.0, 255.0),density=True, color=colors[i])"
   ]
  },
  {
   "cell_type": "markdown",
   "metadata": {},
   "source": [
    "### Ejercicio 5 en clase (10min)"
   ]
  },
  {
   "cell_type": "markdown",
   "metadata": {},
   "source": [
    "<img src= \"res/ejercicio_5.png\">\n"
   ]
  },
  {
   "cell_type": "code",
   "execution_count": null,
   "metadata": {},
   "outputs": [],
   "source": [
    "### Escriba su código acá ###\n",
    "\n",
    "clase = img_read(\"res/clase.png\")\n",
    "\n",
    "plt.imshow(clase)"
   ]
  },
  {
   "cell_type": "markdown",
   "metadata": {},
   "source": [
    "### Ejercicio 6 en clase (5min)"
   ]
  },
  {
   "cell_type": "markdown",
   "metadata": {
    "id": "L7T-JyC3E6OG"
   },
   "source": [
    "### Salida esperada:\n",
    "\n",
    "<img src= \"res/answer_2.png\">"
   ]
  },
  {
   "cell_type": "code",
   "execution_count": null,
   "metadata": {},
   "outputs": [],
   "source": [
    "### Escriba su código acá ###\n",
    "\n",
    "dog = img_read(\"res/perro.png\")\n",
    "\n",
    "plt.imshow(dog)"
   ]
  },
  {
   "cell_type": "markdown",
   "metadata": {
    "id": "9CiKNnvPE6N7"
   },
   "source": [
    "# Resumen histograma."
   ]
  },
  {
   "cell_type": "code",
   "execution_count": null,
   "metadata": {
    "id": "z0h86qucE6N7"
   },
   "outputs": [],
   "source": [
    "#Leer las imágenes 1 a la 4 en RGB\n",
    "img1 = img_read('res/low_light.png')\n",
    "img2 = img_read('res/hi_light.png')\n",
    "img3 = img_read('res/low_contrast.png')\n",
    "img4 = img_read('res/hi_contrast.png')\n",
    "\n",
    "#_ = es una forma de eliminar el verbose de matplotlib\n",
    "\n",
    "#Se genera un arreglo para imprimir las imágenes, 4x2, 4 imágenes y 4 histogramas asociados.\n",
    "fig, arreglo_plots = plt.subplots(4,2, figsize=(10, 15))\n",
    "#Título del cuadro en la posición (0,0)\n",
    "arreglo_plots[0,0].set_title('Imagen baja iluminación')\n",
    "#Imprimir la imagen 1 en la posición (0.0) del arreglo\n",
    "arreglo_plots[0,0].imshow(img1)\n",
    "#Título del cuadro en la posición (0,1)\n",
    "arreglo_plots[0,1].set_title('histograma')\n",
    "#Imprimir el histograma en la posición (0,1)\n",
    "_ = arreglo_plots[0,1].hist(img1[:,:,0].ravel(), bins=256, range=(0.0, 255.0))\n",
    "\n",
    "#Análogamente para los demás casos, como se observa varía la posición asociada en el subplot\n",
    "arreglo_plots[1,0].set_title('Imagen alta iluminación')\n",
    "arreglo_plots[1,0].imshow(img2)\n",
    "arreglo_plots[1,1].set_title('histograma')\n",
    "_ = arreglo_plots[1,1].hist(img2[:,:,0].ravel(), bins=256, range=(0.0, 255.0))\n",
    "\n",
    "arreglo_plots[2,0].set_title('Imagen bajo contraste')\n",
    "arreglo_plots[2,0].imshow(img3)\n",
    "arreglo_plots[2,1].set_title('Histograma')\n",
    "_ = arreglo_plots[2,1].hist(img3[:,:,0].ravel(), bins=256, range=(0.0, 255.0))\n",
    "\n",
    "arreglo_plots[3,0].set_title('Imagen alto contraste')\n",
    "arreglo_plots[3,0].imshow(img4)\n",
    "arreglo_plots[3,1].set_title('Histograma')\n",
    "_ = arreglo_plots[3,1].hist(img4[:,:,0].ravel(), bins=256, range=(0.0, 255.0))"
   ]
  },
  {
   "cell_type": "markdown",
   "metadata": {
    "id": "wATJg9OYE6N7"
   },
   "source": [
    "\n",
    "\n",
    "# Filtros y la operación convolución."
   ]
  },
  {
   "cell_type": "markdown",
   "metadata": {
    "id": "ynruJQEdE6N7"
   },
   "source": [
    "Utilicemos la función filter2D."
   ]
  },
  {
   "cell_type": "code",
   "execution_count": null,
   "metadata": {
    "id": "VIjMm4i0E6N8"
   },
   "outputs": [],
   "source": [
    "#Leer la imagen de entrada\n",
    "img = img_read('res/gato2.jpg', 'color')\n",
    "\n",
    "#Crear un kernel de tamaño 5\n",
    "k_size = 5\n",
    "kernel = np.ones((k_size,k_size),np.float64)/k_size**2\n",
    "\n",
    "#Aplicar filter2D sobre la imagen y el kernel arbitrario, bajo la alternativa de borde preferida\n",
    "res = cv2.filter2D(img, ddepth=-1, kernel= kernel, borderType=cv2.BORDER_REPLICATE)\n",
    "\n",
    "#Mostrar la imagen original y la imagen bajo filter2D\n",
    "fig = plt.figure(figsize=(15,15))\n",
    "\n",
    "plt.subplot(1,2,1)\n",
    "plt.imshow(img,cmap='gray')\n",
    "plt.title(\"Imagen Original\")\n",
    "\n",
    "plt.subplot(1,2,2)\n",
    "plt.imshow(res,cmap='gray')\n",
    "plt.title(\"Imagen Salida\")"
   ]
  },
  {
   "cell_type": "markdown",
   "metadata": {
    "id": "62JRAT8ME6N8"
   },
   "source": [
    "# Tipos de borde.\n",
    "\n",
    "Podemos seleccionar el tipo de borde que deseemos en la imagen, haciendo uso de la función de opencv."
   ]
  },
  {
   "cell_type": "code",
   "execution_count": null,
   "metadata": {
    "id": "rAhPo-OzE6N8"
   },
   "outputs": [],
   "source": [
    "#Leer imagen de entrada\n",
    "img = img_read('res/gato2.jpg', 'color')\n",
    "\n",
    "#Asignar un valor al tamaño del borde en las 4 direcciones\n",
    "#up,down,left,right\n",
    "b_sz = 5\n",
    "\n",
    "#Aplicar MakeBorder bajo todas las alternativas (último parámetro)\n",
    "replicate = cv2.copyMakeBorder(img,b_sz,b_sz,b_sz,b_sz,cv2.BORDER_REPLICATE)\n",
    "reflect = cv2.copyMakeBorder(img,b_sz,b_sz,b_sz,b_sz,cv2.BORDER_REFLECT)\n",
    "reflect101 = cv2.copyMakeBorder(img,b_sz,b_sz,b_sz,b_sz,cv2.BORDER_REFLECT_101)\n",
    "wrap = cv2.copyMakeBorder(img,b_sz,b_sz,b_sz,b_sz,cv2.BORDER_WRAP)\n",
    "constant= cv2.copyMakeBorder(img,b_sz,b_sz,b_sz,b_sz,cv2.BORDER_CONSTANT,value=[0,0,0])\n",
    "\n",
    "#Generar 6 figuras para mostrar cada una de las alternativas y la imagen original\n",
    "fig = plt.figure(figsize=(12,6))\n",
    "plt.subplot(231),plt.imshow(img,'gray'),plt.title('ORIGINAL')\n",
    "plt.subplot(232),plt.imshow(replicate,'gray'),plt.title('REPLICATE')\n",
    "plt.subplot(233),plt.imshow(reflect,'gray'),plt.title('REFLECT')\n",
    "plt.subplot(234),plt.imshow(reflect101,'gray'),plt.title('REFLECT_101')\n",
    "plt.subplot(235),plt.imshow(wrap,'gray'),plt.title('WRAP')\n",
    "plt.subplot(236),plt.imshow(constant,'gray'),plt.title('CONSTANT')"
   ]
  },
  {
   "cell_type": "markdown",
   "metadata": {
    "id": "SKv8JAEYE6N8"
   },
   "source": [
    "# Tipos de ruido."
   ]
  },
  {
   "cell_type": "code",
   "execution_count": null,
   "metadata": {
    "id": "7W8fa5_AE6N8"
   },
   "outputs": [],
   "source": [
    "#Importar librerias\n",
    "%matplotlib inline\n",
    "\n",
    "import cv2\n",
    "import matplotlib.pyplot as plt\n",
    "import numpy as np\n",
    "\n",
    "#Definir la función ruido gaussiano\n",
    "def gaussian_noise(img, std):\n",
    "    #Las variables row, col y ch dependen de la imagen de entrada y sus componentes\n",
    "    mean = 0\n",
    "    row = img.shape[0]\n",
    "    col = img.shape[1]\n",
    "    ch =  img.shape[2] if len(img.shape) == 3 else 1       \n",
    "    #Definir la matriz de ceros noisy  del mismo tamaño que la imagen original\n",
    "    noisy = np.zeros(img.shape, np.float64)\n",
    "    #Generar una distribución normal a partir del comando de numpy\n",
    "    gauss = np.random.normal(mean,std,(row,col,ch)) if ch > 1 else np.random.normal(mean,std,(row,col))\n",
    "    gauss = gauss.reshape(row,col,ch)               if ch > 1 else gauss.reshape(row,col)\n",
    "    #La imagen con ruido gaussiano es la suma de la imagen de entrada con la procesada\n",
    "    noisy =  img + gauss\n",
    "    #Ajustar los datos para que estén entre 0 y 255\n",
    "    noisy[noisy<0] = 0\n",
    "    noisy[noisy>255] = 255\n",
    "    return noisy\n",
    "\n",
    "#Definir la función de ruido impulsivo\n",
    "def sp_noise(img, s_vs_p, amount):\n",
    "    \n",
    "    #Obtener los valores de row, col y ch con base en la imagen de entrada\n",
    "    row = img.shape[0]\n",
    "    col = img.shape[1]\n",
    "    ch =  img.shape[2] if len(img.shape) == 3 else 1  \n",
    "    \n",
    "    #Crear una copia de la imagen para volverla ruidosa\n",
    "    noisy = img.copy()\n",
    "    \n",
    "    # Salt mode\n",
    "    \n",
    "    #Multiplica los parámetros con el tamaño de la imagen, los redondea al mínimo entero\n",
    "    num_salt = np.ceil(amount * img.size * s_vs_p)\n",
    "    #Genera el vector coordenadas en la imagen de copia usando la función randint de numpy\n",
    "    coords = [np.random.randint(0, i - 1, int(num_salt))\n",
    "          for i in img.shape]\n",
    "\n",
    "    #La imagen evaluada en el vector coords se satura\n",
    "    noisy[coords] = 255\n",
    "    \n",
    "    # Pepper mode\n",
    "    \n",
    "    #Se multiplican los parámetros por el tamaño de la imagen, variando s_vs_p\n",
    "    num_pepper = np.ceil(amount* img.size * (1. - s_vs_p))\n",
    "    #Generar el vector coords utilizando randint\n",
    "    coords = [np.random.randint(0, i - 1, int(num_pepper))\n",
    "          for i in img.shape]\n",
    "    #La imagen en el vector coords se satura en color negro\n",
    "    noisy[coords] = 0\n",
    "    return noisy\n",
    "\n",
    "#Definir la función ruido de Poisson\n",
    "def poisson_noise(img):\n",
    "    \n",
    "    #Se aplica el comando de numpy random.poisson a la imagen de entrada\n",
    "    noisy = np.random.poisson(img) \n",
    "    #Los valores deben estar entre 0 y 255\n",
    "    noisy[noisy<0] = 0\n",
    "    noisy[noisy>255] = 255\n",
    "    return noisy\n",
    "\n",
    "\n",
    "\n",
    "img = cv2.cvtColor(cv2.imread('res/nieve.jpg'), cv2.COLOR_BGR2RGB)\n",
    "\n",
    "#Aplicar ruido de Poisson a la imagen y volver al tipo de dato uint8\n",
    "pos = poisson_noise(img)\n",
    "pos = pos.astype(np.uint8)\n",
    "\n",
    "#Dar valores a los parámetros de entrada de la función ruido pimienta\n",
    "s_vs_p = 0.5\n",
    "amount = 0.05\n",
    "\n",
    "#Aplicar ruido gaussiano y darle tipo de dato uint8\n",
    "std = 50\n",
    "res = gaussian_noise(img, std)\n",
    "res = res.astype(np.uint8)\n",
    "pim = sp_noise(img, s_vs_p, amount)\n",
    "pim = pim.astype(np.uint8)\n",
    "\n",
    "#Generar un subplot 1x2 para mostrar la imagen original y la imagen con ruido gaussiano\n",
    "fig, arreglo_plots = plt.subplots(2,2, figsize=(20, 15))\n",
    "\n",
    "arreglo_plots[0][0].set_title('Imagen original')\n",
    "arreglo_plots[0][0].imshow(img, cmap=\"gray\")\n",
    "\n",
    "arreglo_plots[1][0].set_title('Imagen con ruido gaussiano')\n",
    "arreglo_plots[1][0].imshow(res, cmap=\"gray\")\n",
    "\n",
    "arreglo_plots[0][1].set_title('Imagen con ruido pimienta')\n",
    "arreglo_plots[0][1].imshow(pim, cmap=\"gray\")\n",
    "\n",
    "arreglo_plots[1][1].set_title('Imagen con ruido poisson')\n",
    "arreglo_plots[1][1].imshow(pos, cmap=\"gray\")"
   ]
  },
  {
   "cell_type": "markdown",
   "metadata": {
    "id": "Kl4W83gbE6N8"
   },
   "source": [
    "# Filtro de media"
   ]
  },
  {
   "cell_type": "code",
   "execution_count": null,
   "metadata": {
    "id": "1T6nKE19E6N8",
    "scrolled": false
   },
   "outputs": [],
   "source": [
    "#Leer la imagen de entrada\n",
    "img = img_read('res/gato.jpg', 'color')\n",
    "\n",
    "#Dar valor al tamaño del kernel\n",
    "k_size = 3\n",
    "\n",
    "#Aplicar suavizado mediante la función blur, con  un tipo de borde que puede cambiarse\n",
    "res1 = cv2.blur(img,(k_size,k_size),borderType=cv2.BORDER_REPLICATE )\n",
    "\n",
    "#Aplicar el suavizado mediante filter2D\n",
    "kernel = np.ones((k_size,k_size),np.float64)/(k_size**2)\n",
    "res2 = cv2.filter2D(img, ddepth= -1, kernel= kernel, borderType=cv2.BORDER_REPLICATE)\n",
    "\n",
    "#Generar un subplot de 1x3 para mostrar imagen original, Blur y Filter2D\n",
    "fig = plt.figure(figsize=(20,24))\n",
    "\n",
    "plt.subplot(1,3,1)\n",
    "plt.imshow(img,cmap='gray')\n",
    "plt.title(\"Imagen Original\")\n",
    "\n",
    "plt.subplot(1,3,2)\n",
    "plt.imshow(res1,cmap='gray')\n",
    "plt.title(\"Función Blur\")\n",
    "\n",
    "plt.subplot(1,3,3)\n",
    "plt.imshow(res2,cmap='gray')\n",
    "plt.title(\"Función Filter2D\")"
   ]
  },
  {
   "cell_type": "markdown",
   "metadata": {
    "id": "kTS3mLAyE6N9"
   },
   "source": [
    "# Filtro de mediana, su aplicación."
   ]
  },
  {
   "cell_type": "code",
   "execution_count": null,
   "metadata": {
    "id": "ZX8ZpmFvE6N9"
   },
   "outputs": [],
   "source": [
    "#Leer la imagen de entrada en escala de grises\n",
    "img = img_read('res/nieve.jpg', 'color')\n",
    "#Aplicar ruido sal y pimienta\n",
    "img = sp_noise(img, s_vs_p = 0.5, amount = 0.5)\n",
    "\n",
    "#Definir tamaño del kernel\n",
    "k_size = 5\n",
    "#Aplicar filtro de mediana a la imagen de entrada\n",
    "res= cv2.medianBlur(img, k_size)\n",
    "\n",
    "#Generar un subplot 1x2 para mostrar imagen original e imagen tras filtro de mediana\n",
    "fig, arreglo_plots = plt.subplots(1,2, figsize=(15, 15))\n",
    "arreglo_plots[0].set_title('Imagen original')\n",
    "arreglo_plots[0].imshow(img, cmap=\"gray\")\n",
    "\n",
    "arreglo_plots[1].set_title('Imagen tras filtro de mediana')\n",
    "arreglo_plots[1].imshow(res, cmap=\"gray\")"
   ]
  },
  {
   "cell_type": "markdown",
   "metadata": {
    "id": "pqoxp_4JE6OB"
   },
   "source": [
    "# Filtro de máximo y mínimo."
   ]
  },
  {
   "cell_type": "code",
   "execution_count": null,
   "metadata": {
    "id": "Z982HjsYE6OB"
   },
   "outputs": [],
   "source": [
    "#Definir función de Filtro del Máximo\n",
    "def maximum_filter(img,k_size):\n",
    "    #Crear una matriz de ceros del tamaño de la imagen de entrada\n",
    "    res = np.zeros(img.shape, np.uint8)\n",
    "    #Radio del kernel\n",
    "    r = math.floor(k_size/2)\n",
    "    #Recorrer cada posición i,j de la imagen con el kernel\n",
    "    for i in range(r, img.shape[0]-r):\n",
    "        for j in range(r, img.shape[1]-r):\n",
    "            #Tamaño de la ventana \n",
    "            window = img[i-r:i+r+1,j-r:j+r+1]\n",
    "            #Cambiar el valor de la posición i,j de la imagen por el de la ventana\n",
    "            max_val = np.max(window)\n",
    "            res[i,j] = max_val\n",
    "    return res\n",
    "\n",
    "#Leer imagen de entrada\n",
    "img = img_read('res/nieve.jpg', 'color')\n",
    "\n",
    "#Aplicar ruido sal y pimienta a la imagen\n",
    "img = sp_noise(img, s_vs_p = 0, amount = 0.04)\n",
    "#Definir tamaño del kernel\n",
    "k_size = 3 \n",
    "\n",
    "#Aplicar filtro del Máximo a la imagen\n",
    "res = maximum_filter(img, k_size)\n",
    "#Recordar el tipo de dato uint8, entre 0 y 255\n",
    "res = res.astype(np.uint8)\n",
    "\n",
    "#Generar un subplot 1x2 que muestre imagen original e imagen tras filtro de máximo\n",
    "fig, arreglo_plots = plt.subplots(1,2, figsize=(15, 15))\n",
    "\n",
    "arreglo_plots[0].set_title('Imagen original')\n",
    "arreglo_plots[0].imshow(img, cmap=\"gray\", vmin=0, vmax=255)\n",
    "\n",
    "arreglo_plots[1].set_title('Imagen tras filtro de máximo')\n",
    "arreglo_plots[1].imshow(res, cmap=\"gray\", vmin=0, vmax=255)"
   ]
  },
  {
   "cell_type": "code",
   "execution_count": null,
   "metadata": {
    "id": "bQW9K-stE6OC"
   },
   "outputs": [],
   "source": [
    "#Definir función filtro del mínimo\n",
    "def minimum_filter(img,k_size):\n",
    "    #Crear matriz de ceros del tamaño de imagen de entrada\n",
    "    res = np.zeros(img.shape, np.uint8)\n",
    "    #Definir el radio del kernel\n",
    "    r = math.floor(k_size/2)\n",
    "    #Recorrer cada posición i,j de la imagen con el kernel\n",
    "    for i in range(r, img.shape[0]-r):\n",
    "        for j in range(r, img.shape[1]-r):\n",
    "            #Tamaño de la ventana \n",
    "            window = img[i-r:i+r+1,j-r:j+r+1]\n",
    "            #Cambiar el valor de la posición i,j de la imagen por el de la ventana\n",
    "            min_val = np.min(window)\n",
    "            res[i,j] = min_val\n",
    "    return res\n",
    "\n",
    "#Leer la imagen de entrada y aplicarle ruido sal y pimienta\n",
    "img = img_read('res/nieve.jpg', 'color')\n",
    "img = sp_noise(img, s_vs_p = 1, amount = 0.04)\n",
    "#Definir el radio del kernel\n",
    "k_size = 3\n",
    "\n",
    "#Aplicar filtro del mínimo a la imagen de entrada\n",
    "res = minimum_filter(img, k_size)\n",
    "\n",
    "#Tipo de dato entero, entre 0 y 255\n",
    "res = res.astype(np.uint8)\n",
    "\n",
    "#Generar subplot 1x2 para mostrar imagen original e imagen tras filtro del mínimo\n",
    "fig, arreglo_plots = plt.subplots(1,2, figsize=(15, 15))\n",
    "\n",
    "arreglo_plots[0].set_title('Imagen original')\n",
    "arreglo_plots[0].imshow(img, cmap=\"gray\", vmin=0, vmax=255)\n",
    "\n",
    "arreglo_plots[1].set_title('Imagen tras filtro de mínimo')\n",
    "arreglo_plots[1].imshow(res, cmap=\"gray\", vmin=0, vmax=255)"
   ]
  },
  {
   "cell_type": "markdown",
   "metadata": {
    "id": "RVehi0CUE6OC"
   },
   "source": [
    "--------------"
   ]
  },
  {
   "cell_type": "markdown",
   "metadata": {
    "id": "r255qnckE6OG"
   },
   "source": [
    "# Ejercicio 7 en clase (5min)"
   ]
  },
  {
   "cell_type": "code",
   "execution_count": null,
   "metadata": {
    "id": "KYLrApKkE6OK"
   },
   "outputs": [],
   "source": [
    "img = img_read('res/nieve.jpg', 'color')\n",
    "\n",
    "img = sp_noise(img, s_vs_p = 0.5, amount = 0.5)\n",
    "\n",
    "### Modificar acá (Aproximadamente 1-3 líneas ) ###\n",
    "k_size = 3\n",
    "res = cv2.medianBlur(img, k_size)\n",
    "### Fin de la modificación ###\n",
    "\n",
    "\n",
    "\n",
    "\n",
    "fig, arreglo_plots = plt.subplots(1,2, figsize=(15, 15))\n",
    "arreglo_plots[0].set_title('Imagen original')\n",
    "arreglo_plots[0].imshow(img, cmap=\"gray\")\n",
    "\n",
    "arreglo_plots[1].set_title('Imagen mejorada')\n",
    "arreglo_plots[1].imshow(res, cmap=\"gray\")"
   ]
  },
  {
   "cell_type": "markdown",
   "metadata": {
    "id": "YpR5RQsxE6OK"
   },
   "source": [
    "### Salida esperada:\n",
    "\n",
    "<img src= \"res/answer_5.png\">"
   ]
  }
 ],
 "metadata": {
  "colab": {
   "collapsed_sections": [
    "YJkLDz22E6OE",
    "RYYIUXrxE6OE",
    "SJL0SJ1gE6OE",
    "L7T-JyC3E6OG",
    "DpP0gpRnE6OI",
    "uxkf8oZXE6OJ",
    "YpR5RQsxE6OK"
   ],
   "name": "Pre-procesamiento Visión Artificial .ipynb",
   "provenance": []
  },
  "kernelspec": {
   "display_name": "Python 3",
   "language": "python",
   "name": "python3"
  },
  "language_info": {
   "codemirror_mode": {
    "name": "ipython",
    "version": 3
   },
   "file_extension": ".py",
   "mimetype": "text/x-python",
   "name": "python",
   "nbconvert_exporter": "python",
   "pygments_lexer": "ipython3",
   "version": "3.8.5"
  }
 },
 "nbformat": 4,
 "nbformat_minor": 1
}
