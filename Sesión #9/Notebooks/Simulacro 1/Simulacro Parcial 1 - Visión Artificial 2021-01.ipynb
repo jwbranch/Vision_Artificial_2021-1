{
 "cells": [
  {
   "cell_type": "code",
   "execution_count": null,
   "id": "adopted-circumstances",
   "metadata": {},
   "outputs": [],
   "source": [
    "%matplotlib inline\n",
    "import cv2\n",
    "from matplotlib import pyplot as plt\n",
    "import numpy as np\n"
   ]
  },
  {
   "cell_type": "markdown",
   "id": "gorgeous-princess",
   "metadata": {},
   "source": [
    "# Punto 1 (10%)"
   ]
  },
  {
   "cell_type": "markdown",
   "id": "direct-importance",
   "metadata": {},
   "source": [
    "Lea con OpenCV la imagen \"alce.png\" que está dentro de la carpeta \"res\". Conviértala a RGB y luego divídala en cuatro cuadrantes tales que el primer cuadrante muestre el canal rojo y verde (amarillo), el segundo muestre el canal verde y azul (azul cyan), el tercero muestre el canal rojo y azul (Magneta), y el cuarto ningún color (negro).\n",
    "<br>Debe obtener lo siguiente: </br>\n",
    "\n",
    "<img src=\"res/answer_1.png\"/>"
   ]
  },
  {
   "cell_type": "markdown",
   "id": "generous-oxford",
   "metadata": {},
   "source": [
    "<b>Nota:</b> La dimensión de la imagen en RGB es (286, 388, 3)"
   ]
  },
  {
   "cell_type": "code",
   "execution_count": null,
   "id": "incorrect-escape",
   "metadata": {},
   "outputs": [],
   "source": [
    "### Escriba su código aquí ###"
   ]
  },
  {
   "cell_type": "markdown",
   "id": "juvenile-graphics",
   "metadata": {},
   "source": [
    "---"
   ]
  },
  {
   "cell_type": "markdown",
   "id": "confident-survival",
   "metadata": {},
   "source": [
    "# Punto 2 (30%)"
   ]
  },
  {
   "cell_type": "markdown",
   "id": "recreational-andrews",
   "metadata": {},
   "source": [
    "El monitor de visión artificial, luego de aplicar segmentación para el reconocimiento de etiqueta de una nevera, logró separar la etiqueta correctamente, sin embargo obtuvo la siguiente máscara:\n",
    "\n",
    "<img src=\"res/mascara.png\"/>"
   ]
  },
  {
   "cell_type": "markdown",
   "id": "joined-union",
   "metadata": {},
   "source": [
    "Lea con OpenCV la imagen \"nevera.jpg\" que está dentro de la carpeta \"res\". Luego aplique la máscara \"mask.jpg\" que está dentro de la carpeta \"res\". Y Obtenga el siguiente resultado:\n",
    "\n",
    "<img src=\"res/answer_2.png\"/>"
   ]
  },
  {
   "cell_type": "markdown",
   "id": "military-colony",
   "metadata": {},
   "source": [
    "<b>Cosas a tener en cuenta:</b>\n",
    "\n",
    "- CUIDADO con las dimensiones de la imagen y la máscara.\n",
    "- Si la salida esperada es a color, su salida también lo debe ser.\n",
    "\n",
    "<b>Recomendación:</b>\n",
    "\n",
    "- Usar \"img.shape\", para saber la dimensión de las imágenes."
   ]
  },
  {
   "cell_type": "code",
   "execution_count": null,
   "id": "sunset-vintage",
   "metadata": {},
   "outputs": [],
   "source": [
    "### Escriba su código aquí ###"
   ]
  },
  {
   "cell_type": "markdown",
   "id": "pursuant-sociology",
   "metadata": {},
   "source": [
    "---"
   ]
  },
  {
   "cell_type": "markdown",
   "id": "creative-waterproof",
   "metadata": {},
   "source": [
    "# Punto 3 (5%)"
   ]
  },
  {
   "cell_type": "markdown",
   "id": "thermal-buffalo",
   "metadata": {},
   "source": [
    "Tenemos la siguiente imagen con mucho ruido de sal y pimienta:\n",
    "\n",
    "<img src=\"res/ruido.png\" width=\"500\"/>"
   ]
  },
  {
   "cell_type": "markdown",
   "id": "median-twins",
   "metadata": {},
   "source": [
    "Lea la imagen \"ruido.png\" dentro de la carpeta \"res\", y mediante el uso del <b>filtro de mediana</b> con un <b>tamaño de kernel 5</b>, obtenga el siguiente resultado:\n",
    "\n",
    "<img src=\"res/answer_3.png\"/>"
   ]
  },
  {
   "cell_type": "code",
   "execution_count": null,
   "id": "offshore-heath",
   "metadata": {},
   "outputs": [],
   "source": [
    "### Escriba su código aquí ###"
   ]
  },
  {
   "cell_type": "markdown",
   "id": "coupled-oracle",
   "metadata": {},
   "source": [
    "---"
   ]
  },
  {
   "cell_type": "markdown",
   "id": "preliminary-outdoors",
   "metadata": {},
   "source": [
    "# Punto 4 (10%)"
   ]
  },
  {
   "cell_type": "markdown",
   "id": "infrared-juvenile",
   "metadata": {},
   "source": [
    "Tenemos la siguiente función, $F=\\ln{(X + 1)}+{a}$, donde <b>X</b> es la imagen de entrada y <b>a</b> es una constante. El código de esta función se encuentra en la siguiente celda:\n"
   ]
  },
  {
   "cell_type": "code",
   "execution_count": null,
   "id": "silver-unknown",
   "metadata": {},
   "outputs": [],
   "source": [
    "def ln(img, a):\n",
    "    #Crear copia de la imagen con datos flotantes dado que se normalizarán\n",
    "    img_copy = img.astype(np.float32)/255\n",
    "    #A partir de la imagen, generar ln(x + 1)\n",
    "    res_a = np.log(img_copy + 1)\n",
    "    #Sumar ln(x + 1) + a\n",
    "    res = cv2.add(res_a, a)\n",
    "    #Asegurar que los datos queden entre 0 y 255 y regresar al dato uint8\n",
    "    res[res < 0 ] = 0\n",
    "    res = res*255\n",
    "    res[res > 255] = 255\n",
    "    res = res.astype(np.uint8)\n",
    "    \n",
    "    return res"
   ]
  },
  {
   "cell_type": "markdown",
   "id": "ambient-china",
   "metadata": {},
   "source": [
    "Aplique la función anterior con <b>a = 0.1</b> a la imagen \"dog.png\" que se encuentra en la carpeta \"res\", y obtenga el siguiente resultado:\n",
    "<img src=\"res/log.jpg\" width=\"250\"/>"
   ]
  },
  {
   "cell_type": "markdown",
   "id": "innovative-fisher",
   "metadata": {},
   "source": [
    "#### No se le olvide correr la celda de código donde está la función."
   ]
  },
  {
   "cell_type": "code",
   "execution_count": null,
   "id": "plain-publisher",
   "metadata": {},
   "outputs": [],
   "source": [
    "### Escriba su código aquí ###"
   ]
  },
  {
   "cell_type": "markdown",
   "id": "applied-jesus",
   "metadata": {},
   "source": [
    "# Punto 5 (10%)"
   ]
  },
  {
   "cell_type": "markdown",
   "id": "transparent-madrid",
   "metadata": {},
   "source": [
    "Tenemos la siguiente imagen, con su respectivo histograma:\n",
    "<img src=\"res/original.png\" />"
   ]
  },
  {
   "cell_type": "markdown",
   "id": "loving-guard",
   "metadata": {},
   "source": [
    "Lea la imagen \"mont.jpg\" dentro de la carpeta \"res\", y mediante el uso de transformaciones, obtenga el siguiente resultado:\n",
    "<img src=\"res/answer_5.png\" />"
   ]
  },
  {
   "cell_type": "code",
   "execution_count": null,
   "id": "acknowledged-mumbai",
   "metadata": {},
   "outputs": [],
   "source": [
    "### Escriba su código aquí ###"
   ]
  },
  {
   "cell_type": "markdown",
   "id": "municipal-grain",
   "metadata": {},
   "source": [
    "# Punto 6 (10%)"
   ]
  },
  {
   "cell_type": "markdown",
   "id": "japanese-nerve",
   "metadata": {},
   "source": [
    "Tenemos la siguiente imagen:\n",
    "\n",
    "<img src=\"res/cebra.jpg\" width=\"500\"/>"
   ]
  },
  {
   "cell_type": "markdown",
   "id": "north-deposit",
   "metadata": {},
   "source": [
    "Lea la imagen \"cebra.jpg\" dentro de la carpeta \"res\". Luego, si quisieramos separar las cebras peatonales, con los siguientes canales de color: <b>B del RGB, Z del XYZ, B* del LAB y H del HSV </b>, ¿Cuál sería el mejor canal posible para separar la cebra del fondo?"
   ]
  },
  {
   "cell_type": "code",
   "execution_count": null,
   "id": "middle-viewer",
   "metadata": {},
   "outputs": [],
   "source": [
    "### Escriba su código aquí ###"
   ]
  },
  {
   "cell_type": "markdown",
   "id": "current-retail",
   "metadata": {},
   "source": [
    "# Punto 7 (10%)"
   ]
  },
  {
   "cell_type": "markdown",
   "id": "inside-honduras",
   "metadata": {},
   "source": [
    "Tenemos la siguiente imagen:\n",
    "\n",
    "<img src=\"res/cactus.jpg\" width=\"500\"/>"
   ]
  },
  {
   "cell_type": "markdown",
   "id": "comparable-exposure",
   "metadata": {},
   "source": [
    "Lea la imagen \"cactus.jpg\" dentro de la carpeta \"res\". Luego, si quisieramos separar los cactus del fondo, con los siguientes canales de color: <b>R del RGB, X del XYZ, A del LAB y S del HSV </b>, ¿Cuál sería el mejor canal posible para separar los cactus del fondo?"
   ]
  },
  {
   "cell_type": "code",
   "execution_count": null,
   "id": "finite-barcelona",
   "metadata": {},
   "outputs": [],
   "source": [
    "### Escriba su código aquí ###"
   ]
  },
  {
   "cell_type": "markdown",
   "id": "caroline-quantity",
   "metadata": {},
   "source": [
    "# Punto 8 (15%)"
   ]
  },
  {
   "cell_type": "markdown",
   "id": "human-professional",
   "metadata": {},
   "source": [
    "Tenemos la siguiente imagen y una máscara:\n",
    "\n",
    "<img src=\"res/question_8.png\"/>"
   ]
  },
  {
   "cell_type": "markdown",
   "id": "warming-hypothetical",
   "metadata": {},
   "source": [
    "Lea la imagen \"gato.jpg\", y la máscara \"mascara2.png\" dentro de la carpeta \"res\", y mediante el uso de transformaciones geométricas, obtenga el siguiente resultado:\n",
    "<img src=\"res/answer_8.png\"/>"
   ]
  },
  {
   "cell_type": "code",
   "execution_count": null,
   "id": "greater-modem",
   "metadata": {
    "scrolled": true
   },
   "outputs": [],
   "source": [
    "### Escriba su código aquí ###"
   ]
  }
 ],
 "metadata": {
  "kernelspec": {
   "display_name": "Python 3",
   "language": "python",
   "name": "python3"
  },
  "language_info": {
   "codemirror_mode": {
    "name": "ipython",
    "version": 3
   },
   "file_extension": ".py",
   "mimetype": "text/x-python",
   "name": "python",
   "nbconvert_exporter": "python",
   "pygments_lexer": "ipython3",
   "version": "3.8.5"
  }
 },
 "nbformat": 4,
 "nbformat_minor": 5
}
